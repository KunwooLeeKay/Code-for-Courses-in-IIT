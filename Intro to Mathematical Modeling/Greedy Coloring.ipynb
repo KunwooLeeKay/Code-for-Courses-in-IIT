{
 "cells": [
  {
   "cell_type": "code",
   "execution_count": 1,
   "metadata": {},
   "outputs": [],
   "source": [
    "import numpy as np\n",
    "\n",
    "matrix = np.load(\"/Users/kunwoosmac/Desktop/adjacent matrix.npy\");\n",
    "G=matrix"
   ]
  },
  {
   "cell_type": "code",
   "execution_count": 2,
   "metadata": {},
   "outputs": [
    {
     "name": "stdout",
     "output_type": "stream",
     "text": [
      "{100: 0, 202: 1, 232: 2, 302: 3, 305: 4, 311: 5, 312: 6, 313: 7, 315: 8, 320: 9, 350: 10, 365: 11, 370: 12, 373: 13, 410: 14, 411: 15, 414: 16, 419: 17, 443: 18, 470: 19, 476: 20, 485: 21}\n",
      "[1.0, 2.0, 2.0, 2.0, 1.0, 1.0, 1.0, 2.0, 3.0, 1.0, 4.0, 4.0, 3.0, 2.0, 4.0, 2.0, 1.0, 3.0, 1.0, 7.0, 5.0, 4.0]\n",
      "22\n"
     ]
    }
   ],
   "source": [
    "# inisiate the name of node.\n",
    "node = [100, 202, 232, 302, 305, 311, 312, 313, 315, 320, 350, 365, 370, 373, 410, 411, 414, 419, 443, 470, 476, 485]\n",
    "t_={}\n",
    "for i in range(len(G)):\n",
    "    \n",
    "    t_[node[i]] = i\n",
    "print(t_)\n",
    "\n",
    "# count degree of all node.\n",
    "degree =[]\n",
    "for i in range(len(G)):\n",
    "    \n",
    "    degree.append(sum(G[i]))\n",
    "print(degree)\n",
    "\n",
    "a_or_c = ['a','a','a','a','a','a','a','a','a','a','a','c','c','c','a','a','a','a','a','c','c','a']\n",
    "print(len(a_or_c))\n",
    "# inisiate the posible color\n",
    "colorDict = {}\n",
    "for i in range(len(G)):\n",
    "    if a_or_c[i] == 'a':\n",
    "        colorDict[node[i]]=['Auditorium 1', 'Auditorium 2', 'Auditorium 3']\n",
    "    elif a_or_c[i] == 'c':\n",
    "        colorDict[node[i]]=['Classroom 1', 'Classroom 2', 'Classroom 3', 'Classroom 4', 'Classroom 5']"
   ]
  },
  {
   "cell_type": "code",
   "execution_count": 3,
   "metadata": {},
   "outputs": [],
   "source": [
    "\n",
    "# sort the node depends on the degree\n",
    "sortedNode=[]\n",
    "indeks = []\n",
    "\n",
    "# use selection sort\n",
    "for i in range(len(degree)): #0~21\n",
    "    _max = 0 \n",
    "    j = 0\n",
    "    for j in range(len(degree)): ##0~21\n",
    "        if j not in indeks:\n",
    "            if degree[j] > _max:# _max=2\n",
    "                _max = degree[j]\n",
    "                idx = j\n",
    "    indeks.append(idx)\n",
    "    sortedNode.append(node[idx])\n",
    "\n",
    "# The main process\n",
    "theSolution={}\n",
    "for n in sortedNode:\n",
    "    \n",
    "    setTheColor = colorDict[n]\n",
    "    theSolution[n] = setTheColor[0]\n",
    "    adjacentNode = G[t_[n]]\n",
    "    for j in range(len(adjacentNode)):\n",
    "        if adjacentNode[j]==1 and (setTheColor[0] in colorDict[node[j]]):\n",
    "            colorDict[node[j]].remove(setTheColor[0])"
   ]
  },
  {
   "cell_type": "code",
   "execution_count": 5,
   "metadata": {},
   "outputs": [
    {
     "name": "stdout",
     "output_type": "stream",
     "text": [
      "MMAE 100  =  Auditorium 1\n",
      "MMAE 202  =  Auditorium 1\n",
      "MMAE 232  =  Auditorium 2\n",
      "MMAE 302  =  Auditorium 2\n",
      "MMAE 305  =  Auditorium 2\n",
      "MMAE 311  =  Auditorium 1\n",
      "MMAE 312  =  Auditorium 1\n",
      "MMAE 313  =  Auditorium 2\n",
      "MMAE 315  =  Auditorium 1\n",
      "MMAE 320  =  Auditorium 1\n",
      "MMAE 350  =  Auditorium 1\n",
      "MMAE 365  =  Classroom 2\n",
      "MMAE 370  =  Classroom 2\n",
      "MMAE 373  =  Classroom 2\n",
      "MMAE 410  =  Auditorium 2\n",
      "MMAE 411  =  Auditorium 3\n",
      "MMAE 414  =  Auditorium 1\n",
      "MMAE 419  =  Auditorium 1\n",
      "MMAE 443  =  Auditorium 2\n",
      "MMAE 470  =  Classroom 1\n",
      "MMAE 476  =  Classroom 1\n",
      "MMAE 485  =  Auditorium 3\n"
     ]
    }
   ],
   "source": [
    "\n",
    "\n",
    "# Print the solution\n",
    "for t,w in sorted(theSolution.items()):\n",
    "    print(\"MMAE\",t,\" = \",w)\n"
   ]
  },
  {
   "cell_type": "code",
   "execution_count": null,
   "metadata": {},
   "outputs": [],
   "source": []
  }
 ],
 "metadata": {
  "kernelspec": {
   "display_name": "Python 3 (ipykernel)",
   "language": "python",
   "name": "python3"
  },
  "language_info": {
   "codemirror_mode": {
    "name": "ipython",
    "version": 3
   },
   "file_extension": ".py",
   "mimetype": "text/x-python",
   "name": "python",
   "nbconvert_exporter": "python",
   "pygments_lexer": "ipython3",
   "version": "3.10.9"
  }
 },
 "nbformat": 4,
 "nbformat_minor": 4
}
