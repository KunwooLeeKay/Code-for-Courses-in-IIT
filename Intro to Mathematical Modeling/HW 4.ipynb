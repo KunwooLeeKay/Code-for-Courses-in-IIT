{
 "cells": [
  {
   "cell_type": "code",
   "execution_count": 2,
   "id": "3466c2a8",
   "metadata": {},
   "outputs": [],
   "source": [
    "from scipy.optimize import linprog\n",
    "import numpy as np"
   ]
  },
  {
   "cell_type": "markdown",
   "id": "1b4c906a",
   "metadata": {},
   "source": [
    "# 3.2.2.b) Linear Programming - ChevyShev"
   ]
  },
  {
   "cell_type": "code",
   "execution_count": 31,
   "id": "17dbbdeb",
   "metadata": {},
   "outputs": [
    {
     "name": "stdout",
     "output_type": "stream",
     "text": [
      "Minimum r : 0.0013911123575149342, a : 0.0016403766921022772, b : 0.0029561501342121183\n"
     ]
    }
   ],
   "source": [
    "x = np.array([29.1, 48.2, 72.7, 92.0, 118, 140, 165, 199])\n",
    "y = np.array([0.0493, 0.0821, 0.123, 0.154, 0.197, 0.234, 0.274, 0.328])\n",
    "\n",
    "# Set what to minimize. from [r, a, b] we are minimizing r. So [1,0,0]\n",
    "c = [1,0,0]\n",
    "\n",
    "# Define A\n",
    "A = np.zeros((16,3))\n",
    "for i, xi in zip(range(0, 16, 2), x):\n",
    "    A[i] = np.array([-1, -xi, -1])\n",
    "    A[i+1] = np.array([-1, xi, 1])\n",
    "\n",
    "# Define b\n",
    "b = np.zeros((16,1))\n",
    "for i, yi in zip(range(0, 16, 2), y):\n",
    "    b[i] = np.array(-yi)\n",
    "    b[i+1] = np.array(yi)\n",
    "\n",
    "# Set Bounds\n",
    "r_bounds = (None, None)\n",
    "a_bounds = (None, None)\n",
    "b_bounds = (None, None)\n",
    "\n",
    "res = linprog(c, A_ub=A, b_ub=b, bounds=[r_bounds, a_bounds, b_bounds])\n",
    "print(\"Minimum r : {}, a : {}, b : {}\".format(res['x'][0],res['x'][1],res['x'][2]))"
   ]
  },
  {
   "cell_type": "markdown",
   "id": "ccd0b499",
   "metadata": {},
   "source": [
    "# 3.2.3) Linear Programming - ChevyShev"
   ]
  },
  {
   "cell_type": "code",
   "execution_count": 36,
   "id": "d9c701a1",
   "metadata": {},
   "outputs": [
    {
     "name": "stdout",
     "output_type": "stream",
     "text": [
      "Minimum r : 0.028333333405751615, c1 : 3.999999999003919, c2 : -0.03333333273638284, c3 : -0.005000000013919814\n"
     ]
    }
   ],
   "source": [
    "x = np.array([0.1, 0.2, 0.3, 0.4, 0.5])\n",
    "y = np.array([0.06, 0.12, 0.36, 0.65, 0.95])\n",
    "\n",
    "# Set what to minimize. from [r, c1, c2, c3] we are minimizing r. So [1,0,0,0]\n",
    "c = [1,0,0,0]\n",
    "\n",
    "# Define A\n",
    "A = np.zeros((10,4))\n",
    "for i, xi in zip(range(0, 10, 2), x):\n",
    "    A[i] = np.array([-1, -xi**2, -xi,-1])\n",
    "    A[i+1] = np.array([-1, xi**2, xi, 1])\n",
    "\n",
    "# Define b\n",
    "b = np.zeros((10,1))\n",
    "for i, yi in zip(range(0, 10, 2), y):\n",
    "    b[i] = np.array(-yi)\n",
    "    b[i+1] = np.array(yi)\n",
    "\n",
    "# Set Bounds\n",
    "r_bounds = (None, None)\n",
    "c1_bounds = (None, None)\n",
    "c2_bounds = (None, None)\n",
    "c3_bounds = (None, None)\n",
    "\n",
    "res = linprog(c, A_ub=A, b_ub=b, bounds=[r_bounds, c1_bounds, c2_bounds, c3_bounds])\n",
    "print(\"Minimum r : {}, c1 : {}, c2 : {}, c3 : {}\".format(res['x'][0],res['x'][1],res['x'][2], res['x'][3]))"
   ]
  },
  {
   "cell_type": "markdown",
   "id": "4c0910e1",
   "metadata": {},
   "source": [
    "# 3.3.4 : Least Square Criterion"
   ]
  },
  {
   "cell_type": "code",
   "execution_count": 42,
   "id": "94a26a59",
   "metadata": {},
   "outputs": [],
   "source": [
    "t = np.array([7, 14, 21, 28, 35, 42])\n",
    "P = np.array([8, 41, 133, 250, 280, 297])\n",
    "lnP = np.log(P)\n",
    "t_square = t**2"
   ]
  },
  {
   "cell_type": "code",
   "execution_count": 2,
   "id": "86207c9b",
   "metadata": {},
   "outputs": [
    {
     "name": "stdout",
     "output_type": "stream",
     "text": [
      "a : [8.53065944], b : [0.09981633]\n"
     ]
    }
   ],
   "source": [
    "A = np.array([[12, 294], [294, 8918]])\n",
    "ans = np.linalg.inv(A) @ np.array([[55.07], [1520.4]])\n",
    "a_prime = ans[0]\n",
    "b = ans[1]\n",
    "a = np.exp(a_prime)\n",
    "print(\"a : {}, b : {}\".format(a, b))"
   ]
  },
  {
   "cell_type": "code",
   "execution_count": 39,
   "id": "555bed4b",
   "metadata": {},
   "outputs": [
    {
     "data": {
      "text/plain": [
       "294"
      ]
     },
     "execution_count": 39,
     "metadata": {},
     "output_type": "execute_result"
    }
   ],
   "source": [
    "sum(t) * 2"
   ]
  },
  {
   "cell_type": "code",
   "execution_count": 41,
   "id": "361c53f0",
   "metadata": {},
   "outputs": [
    {
     "data": {
      "text/plain": [
       "55.06669079288018"
      ]
     },
     "execution_count": 41,
     "metadata": {},
     "output_type": "execute_result"
    }
   ],
   "source": [
    "sum(lnP) * 2"
   ]
  },
  {
   "cell_type": "code",
   "execution_count": 43,
   "id": "220e5212",
   "metadata": {},
   "outputs": [
    {
     "data": {
      "text/plain": [
       "8918"
      ]
     },
     "execution_count": 43,
     "metadata": {},
     "output_type": "execute_result"
    }
   ],
   "source": [
    "2*sum(t_square)"
   ]
  },
  {
   "cell_type": "code",
   "execution_count": 44,
   "id": "c13c9ad6",
   "metadata": {
    "scrolled": true
   },
   "outputs": [
    {
     "data": {
      "text/plain": [
       "1520.397446118112"
      ]
     },
     "execution_count": 44,
     "metadata": {},
     "output_type": "execute_result"
    }
   ],
   "source": [
    "2 * sum(t*lnP)"
   ]
  },
  {
   "cell_type": "markdown",
   "id": "6c71a309",
   "metadata": {},
   "source": [
    "# 3.3.8 : Least Square Criterion"
   ]
  },
  {
   "cell_type": "code",
   "execution_count": 53,
   "id": "781e24fc",
   "metadata": {},
   "outputs": [
    {
     "name": "stdout",
     "output_type": "stream",
     "text": [
      "370.33095392602206\n"
     ]
    }
   ],
   "source": [
    "# a\n",
    "\n",
    "x = np.array([5, 10, 20, 30, 40, 50, 60, 70, 80, 90, 100]) * 1000\n",
    "y = np.array([0, 19, 57, 94, 134, 173, 216, 256, 297, 343, 390]) * 100000\n",
    "\n",
    "sig_xy = sum(x * y)\n",
    "sig_x_square = sum(x**2)\n",
    "print(sig_xy / sig_x_square)"
   ]
  },
  {
   "cell_type": "code",
   "execution_count": 55,
   "id": "8c9f2784",
   "metadata": {},
   "outputs": [
    {
     "name": "stdout",
     "output_type": "stream",
     "text": [
      "77050000000 1110000 28534000000000 395800000\n",
      "a : [406.93304536], b : [-2540712.74298055]\n"
     ]
    }
   ],
   "source": [
    "# b\n",
    "\n",
    "x = np.array([5, 10, 20, 30, 40, 50, 60, 70, 80, 90, 100]) * 1000\n",
    "y = np.array([0, 19, 57, 94, 134, 173, 216, 256, 297, 343, 390]) * 100000\n",
    "\n",
    "print(2*sum(x**2), 2 * sum(x), 2*sum(x*y), 2*sum(y))\n",
    "\n",
    "A = np.array([ [2*sum(x**2), 2 * sum(x)], [2 * sum(x), 22] ])\n",
    "\n",
    "ans = np.linalg.inv(A) @ np.array([[2*sum(x*y)], [2*sum(y)]])\n",
    "\n",
    "a = ans[0]\n",
    "b = ans[1]\n",
    "\n",
    "print(\"a : {}, b : {}\".format(a, b))"
   ]
  },
  {
   "cell_type": "code",
   "execution_count": 57,
   "id": "5b5cf66d",
   "metadata": {},
   "outputs": [
    {
     "name": "stdout",
     "output_type": "stream",
     "text": [
      "11367300 253330625 0.04487140076333053\n"
     ]
    }
   ],
   "source": [
    "# c\n",
    "\n",
    "x = np.array([5, 10, 20, 30, 40, 50, 60, 70, 80, 90, 100]) # * 1000\n",
    "y = np.array([0, 19, 57, 94, 134, 173, 216, 256, 297, 343, 390]) # * 100000\n",
    "\n",
    "print(sum(x**2 * y), sum(x**4), sum(x**2 * y)/sum(x**4))"
   ]
  },
  {
   "cell_type": "markdown",
   "id": "869cc1f3",
   "metadata": {},
   "source": [
    "# 3.4.7\n",
    "### Least Square Criterion"
   ]
  },
  {
   "cell_type": "code",
   "execution_count": 65,
   "id": "66390383",
   "metadata": {},
   "outputs": [
    {
     "name": "stdout",
     "output_type": "stream",
     "text": [
      "k : 0.008436760675206318\n",
      "[25.721 16.478 43.305 25.721 16.977 47.181 23.776 16.977]\n",
      "12.16518600000001\n"
     ]
    }
   ],
   "source": [
    "# a\n",
    "\n",
    "l = np.array([14.5, 12.5, 17.25, 14.5, 12.625, 17.75, 14.125, 12.625])\n",
    "W = np.array([27, 17, 41, 26, 17, 49, 23, 16])\n",
    "\n",
    "k = sum(W*l**3)/sum(l**6)\n",
    "print(\"k :\", k)\n",
    "W_pred = (k*l**3).round(3)\n",
    "print(W_pred)\n",
    "\n",
    "print(sum((W - W_pred)**2))"
   ]
  },
  {
   "cell_type": "code",
   "execution_count": 68,
   "id": "633a53ef",
   "metadata": {},
   "outputs": [
    {
     "name": "stdout",
     "output_type": "stream",
     "text": [
      "k : 0.018675110215167733\n",
      "[25.742 16.374 38.98  25.742 17.035 51.794 21.367 17.035]\n",
      "17.666978999999994\n"
     ]
    }
   ],
   "source": [
    "# b\n",
    "\n",
    "l = np.array([14.5, 12.5, 17.25, 14.5, 12.625, 17.75, 14.125, 12.625])\n",
    "W = np.array([27, 17, 41, 26, 17, 49, 23, 16])\n",
    "g = np.array([9.75, 8.375, 11, 9.75, 8.5, 12.5, 9, 8.5])\n",
    "\n",
    "k = sum(W*l*g**2) / sum(l**2 * g **4)\n",
    "print(\"k :\", k)\n",
    "\n",
    "W_pred = (k * l * g ** 2).round(3)\n",
    "print(W_pred)\n",
    "\n",
    "print(sum((W - W_pred)**2))"
   ]
  },
  {
   "cell_type": "markdown",
   "id": "ad291aa5",
   "metadata": {},
   "source": [
    "### CAC"
   ]
  },
  {
   "cell_type": "code",
   "execution_count": 4,
   "id": "f01287ee",
   "metadata": {},
   "outputs": [
    {
     "name": "stdout",
     "output_type": "stream",
     "text": [
      "Minimum r : 2.072477492176346, k : 0.008391363882313208\n"
     ]
    }
   ],
   "source": [
    "l = np.array([14.5, 12.5, 17.25, 14.5, 12.625, 17.75, 14.125, 12.625])\n",
    "W = np.array([27, 17, 41, 26, 17, 49, 23, 16])\n",
    "\n",
    "# Set what to minimize.\n",
    "c = [1,0]\n",
    "\n",
    "# Define A\n",
    "A = np.zeros((16,2))\n",
    "for i, xi in zip(range(0, 16, 2), l):\n",
    "    A[i] = np.array([-1, -xi**3])\n",
    "    A[i+1] = np.array([-1, xi**3])\n",
    "\n",
    "# Define b\n",
    "b = np.zeros((16,1))\n",
    "for i, yi in zip(range(0, 16, 2), W):\n",
    "    b[i] = np.array(-yi)\n",
    "    b[i+1] = np.array(yi)\n",
    "\n",
    "# Set Bounds\n",
    "r_bounds = (None, None)\n",
    "c_bounds = (None, None)\n",
    "\n",
    "res = linprog(c, A_ub=A, b_ub=b, bounds=[r_bounds, c_bounds])\n",
    "print(\"Minimum r : {}, k : {}\".format(res['x'][0],res['x'][1]))"
   ]
  },
  {
   "cell_type": "markdown",
   "id": "a08048c8",
   "metadata": {},
   "source": [
    "# 3.4.8"
   ]
  },
  {
   "cell_type": "markdown",
   "id": "2284d63a",
   "metadata": {},
   "source": [
    "## LSC"
   ]
  },
  {
   "cell_type": "code",
   "execution_count": 70,
   "id": "2761c508",
   "metadata": {},
   "outputs": [
    {
     "name": "stdout",
     "output_type": "stream",
     "text": [
      "c : 0.02757821830681667\n",
      "[25.561 16.2   36.707 25.561 16.936 53.864 20.105 16.936]\n",
      "54.25300399999997\n"
     ]
    }
   ],
   "source": [
    "# model 1\n",
    "l = np.array([14.5, 12.5, 17.25, 14.5, 12.625, 17.75, 14.125, 12.625])\n",
    "W = np.array([27, 17, 41, 26, 17, 49, 23, 16])\n",
    "g = np.array([9.75, 8.375, 11, 9.75, 8.5, 12.5, 9, 8.5])\n",
    "\n",
    "c = sum(W*g**3)/sum(g**6)\n",
    "print('c :',c)\n",
    "\n",
    "W_pred = (c*g**3).round(3)\n",
    "print(W_pred)\n",
    "\n",
    "print(sum((W - W_pred)**2))"
   ]
  },
  {
   "cell_type": "code",
   "execution_count": 71,
   "id": "ef9aa54e",
   "metadata": {},
   "outputs": [
    {
     "name": "stdout",
     "output_type": "stream",
     "text": [
      "k : 0.012583877271935714\n",
      "[25.796 16.467 41.189 25.796 17.049 49.559 22.596 17.049]\n",
      "3.389540999999999\n"
     ]
    }
   ],
   "source": [
    "# model 2\n",
    "l = np.array([14.5, 12.5, 17.25, 14.5, 12.625, 17.75, 14.125, 12.625])\n",
    "W = np.array([27, 17, 41, 26, 17, 49, 23, 16])\n",
    "g = np.array([9.75, 8.375, 11, 9.75, 8.5, 12.5, 9, 8.5])\n",
    "\n",
    "k = sum(W*g*l**2)/sum(l**4 * g**2)\n",
    "print('k :',k)\n",
    "\n",
    "W_pred = (k*g*l**2).round(3)\n",
    "print(W_pred)\n",
    "\n",
    "print(sum((W - W_pred)**2))"
   ]
  },
  {
   "cell_type": "markdown",
   "id": "937aeb58",
   "metadata": {},
   "source": [
    "## CAC"
   ]
  },
  {
   "cell_type": "code",
   "execution_count": 2,
   "id": "1b16b39a",
   "metadata": {},
   "outputs": [
    {
     "name": "stdout",
     "output_type": "stream",
     "text": [
      "Minimum r : 4.524530885879084, c : 0.027404559792612027\n"
     ]
    }
   ],
   "source": [
    "# Model 1\n",
    "\n",
    "l = np.array([14.5, 12.5, 17.25, 14.5, 12.625, 17.75, 14.125, 12.625])\n",
    "W = np.array([27, 17, 41, 26, 17, 49, 23, 16])\n",
    "g = np.array([9.75, 8.375, 11, 9.75, 8.5, 12.5, 9, 8.5])\n",
    "\n",
    "# Set what to minimize.\n",
    "c = [1,0]\n",
    "\n",
    "# Define A\n",
    "A = np.zeros((16,2))\n",
    "for i, xi in zip(range(0, 16, 2), g):\n",
    "    A[i] = np.array([-1, -xi**3])\n",
    "    A[i+1] = np.array([-1, xi**3])\n",
    "\n",
    "# Define b\n",
    "b = np.zeros((16,1))\n",
    "for i, yi in zip(range(0, 16, 2), W):\n",
    "    b[i] = np.array(-yi)\n",
    "    b[i+1] = np.array(yi)\n",
    "\n",
    "# Set Bounds\n",
    "r_bounds = (None, None)\n",
    "c_bounds = (None, None)\n",
    "\n",
    "res = linprog(c, A_ub=A, b_ub=b, bounds=[r_bounds, c_bounds])\n",
    "print(\"Minimum r : {}, c : {}\".format(res['x'][0],res['x'][1]))"
   ]
  },
  {
   "cell_type": "code",
   "execution_count": 5,
   "id": "324c8973",
   "metadata": {},
   "outputs": [
    {
     "name": "stdout",
     "output_type": "stream",
     "text": [
      "Minimum r : 2.352689326262941, k : 0.01851589916869445\n"
     ]
    }
   ],
   "source": [
    "# Model 2\n",
    "\n",
    "l = np.array([14.5, 12.5, 17.25, 14.5, 12.625, 17.75, 14.125, 12.625])\n",
    "W = np.array([27, 17, 41, 26, 17, 49, 23, 16])\n",
    "g = np.array([9.75, 8.375, 11, 9.75, 8.5, 12.5, 9, 8.5])\n",
    "\n",
    "# Set what to minimize.\n",
    "c = [1,0]\n",
    "\n",
    "# Define A\n",
    "A = np.zeros((16,2))\n",
    "for i, gi, li in zip(range(0, 16, 2), g, l):\n",
    "    A[i] = np.array([-1, -li*gi**2])\n",
    "    A[i+1] = np.array([-1, li*gi**2])\n",
    "\n",
    "# Define b\n",
    "b = np.zeros((16,1))\n",
    "for i, yi in zip(range(0, 16, 2), W):\n",
    "    b[i] = np.array(-yi)\n",
    "    b[i+1] = np.array(yi)\n",
    "\n",
    "# Set Bounds\n",
    "r_bounds = (None, None)\n",
    "c_bounds = (None, None)\n",
    "\n",
    "res = linprog(c, A_ub=A, b_ub=b, bounds=[r_bounds, c_bounds])\n",
    "print(\"Minimum r : {}, k : {}\".format(res['x'][0],res['x'][1]))"
   ]
  },
  {
   "cell_type": "code",
   "execution_count": 4,
   "id": "da56af6d",
   "metadata": {},
   "outputs": [
    {
     "name": "stdout",
     "output_type": "stream",
     "text": [
      "Minimum r : 1.1105484283291576, k : 0.012629385811633087\n"
     ]
    }
   ],
   "source": [
    "# Model 2\n",
    "\n",
    "l = np.array([14.5, 12.5, 17.25, 14.5, 12.625, 17.75, 14.125, 12.625])\n",
    "W = np.array([27, 17, 41, 26, 17, 49, 23, 16])\n",
    "g = np.array([9.75, 8.375, 11, 9.75, 8.5, 12.5, 9, 8.5])\n",
    "\n",
    "# Set what to minimize.\n",
    "c = [1,0]\n",
    "\n",
    "# Define A\n",
    "A = np.zeros((16,2))\n",
    "for i, gi, li in zip(range(0, 16, 2), g, l):\n",
    "    A[i] = np.array([-1, -gi*li**2])\n",
    "    A[i+1] = np.array([-1, gi*li**2])\n",
    "\n",
    "# Define b\n",
    "b = np.zeros((16,1))\n",
    "for i, yi in zip(range(0, 16, 2), W):\n",
    "    b[i] = np.array(-yi)\n",
    "    b[i+1] = np.array(yi)\n",
    "\n",
    "# Set Bounds\n",
    "r_bounds = (None, None)\n",
    "c_bounds = (None, None)\n",
    "\n",
    "res = linprog(c, A_ub=A, b_ub=b, bounds=[r_bounds, c_bounds])\n",
    "print(\"Minimum r : {}, k : {}\".format(res['x'][0],res['x'][1]))"
   ]
  },
  {
   "cell_type": "code",
   "execution_count": null,
   "id": "de25bcf5",
   "metadata": {},
   "outputs": [],
   "source": []
  }
 ],
 "metadata": {
  "kernelspec": {
   "display_name": "Python 3 (ipykernel)",
   "language": "python",
   "name": "python3"
  },
  "language_info": {
   "codemirror_mode": {
    "name": "ipython",
    "version": 3
   },
   "file_extension": ".py",
   "mimetype": "text/x-python",
   "name": "python",
   "nbconvert_exporter": "python",
   "pygments_lexer": "ipython3",
   "version": "3.10.9"
  }
 },
 "nbformat": 4,
 "nbformat_minor": 5
}
