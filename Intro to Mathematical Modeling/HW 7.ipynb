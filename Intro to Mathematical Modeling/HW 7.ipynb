{
 "cells": [
  {
   "cell_type": "code",
   "execution_count": 1,
   "id": "8b5b3605",
   "metadata": {},
   "outputs": [],
   "source": [
    "import numpy as np"
   ]
  },
  {
   "cell_type": "markdown",
   "id": "f8fb7749",
   "metadata": {},
   "source": [
    "# Problem 5.1.3\n",
    "- First, I must find a bounding box for Q and S. Since Both Q and S has x and y value that is between 0 and 1, I will choose to set the bounding box as [-1, 2] x [-1, 2]"
   ]
  },
  {
   "cell_type": "code",
   "execution_count": 107,
   "id": "f51b899d",
   "metadata": {},
   "outputs": [
    {
     "name": "stdout",
     "output_type": "stream",
     "text": [
      "When n = 100 \n",
      "Area : Q : 0.54, S : 0.63\n",
      "pi : 3.428571428571429\n",
      "----------------------------------------\n",
      "When n = 200 \n",
      "Area : Q : 0.855, S : 0.9\n",
      "pi : 3.8\n",
      "----------------------------------------\n",
      "When n = 300 \n",
      "Area : Q : 0.66, S : 0.72\n",
      "pi : 3.666666666666667\n",
      "----------------------------------------\n",
      "When n = 400 \n",
      "Area : Q : 0.765, S : 0.99\n",
      "pi : 3.090909090909091\n",
      "----------------------------------------\n",
      "When n = 500 \n",
      "Area : Q : 1.116, S : 1.368\n",
      "pi : 3.263157894736842\n",
      "----------------------------------------\n",
      "When n = 600 \n",
      "Area : Q : 0.765, S : 1.02\n",
      "pi : 3.0\n",
      "----------------------------------------\n",
      "When n = 700 \n",
      "Area : Q : 0.7971428571428572, S : 0.9257142857142857\n",
      "pi : 3.4444444444444446\n",
      "----------------------------------------\n",
      "When n = 800 \n",
      "Area : Q : 0.73125, S : 0.945\n",
      "pi : 3.0952380952380953\n",
      "----------------------------------------\n",
      "When n = 900 \n",
      "Area : Q : 0.88, S : 1.06\n",
      "pi : 3.320754716981132\n",
      "----------------------------------------\n",
      "When n = 1000 \n",
      "Area : Q : 0.693, S : 0.9\n",
      "pi : 3.0799999999999996\n",
      "----------------------------------------\n"
     ]
    }
   ],
   "source": [
    "# Set input, which is number of random points to be generated.\n",
    "# As I am going to test 100, 200, 300, ... , 1000, I will make n as list and use one at a time\n",
    "n = list(range(100, 1100, 100))\n",
    "\n",
    "# I will set c1, which is the count of points inside the desired area, Q\n",
    "# And c2 for S, and initialize with 0\n",
    "c1 = 0\n",
    "c2 = 0\n",
    "\n",
    "for rep in n: # take rep in n, so rep will be 100, 200, 300, ...\n",
    "    c1 = 0; c2 = 0\n",
    "    for i in range(rep): # repeat as much as the rep\n",
    "        x = np.random.rand() * 3 - 1 # multiply the random number by 3 and subtract 1, \n",
    "        y = np.random.rand() * 3 - 1 # to make it between -1 and 2\n",
    "        if x >= 0 and y >= 0 and x**2 + y **2 <= 1:\n",
    "            c1 += 1\n",
    "        if x >= 0 and x <= 1 and y >= 0 and y <= 1:\n",
    "            c2 += 1\n",
    "    Q = 9 * c1/rep\n",
    "    S = 9 * c2/rep # the area of Q and S is Area of Bounding Box * c / n\n",
    "    print(\"When n = {} \\nArea : Q : {}, S : {}\".format(rep, Q, S))\n",
    "    print(\"pi : {}\".format(4 * Q/S))\n",
    "    print('-'*40)"
   ]
  },
  {
   "cell_type": "markdown",
   "id": "ecda104c",
   "metadata": {},
   "source": [
    "# Problem 5.1.5\n",
    "- For this problem, geometrically, the area trapped between two curves can't have coordinates bigger than the x and y intercept of y = 6 - x. Also, as it is surrounded by x and y axes, it will both have value bigger than 0. So, I will take bounding box as [0, 6] x [0, 6]"
   ]
  },
  {
   "cell_type": "code",
   "execution_count": 3,
   "id": "1714a33c",
   "metadata": {},
   "outputs": [
    {
     "name": "stdout",
     "output_type": "stream",
     "text": [
      "When n = 500 \n",
      "Area : 8.856 \n",
      "-----------------------------------\n",
      "When n = 600 \n",
      "Area : 7.44 \n",
      "-----------------------------------\n",
      "When n = 700 \n",
      "Area : 5.914285714285715 \n",
      "-----------------------------------\n",
      "When n = 800 \n",
      "Area : 7.875 \n",
      "-----------------------------------\n",
      "When n = 900 \n",
      "Area : 7.68 \n",
      "-----------------------------------\n",
      "When n = 1000 \n",
      "Area : 7.344 \n",
      "-----------------------------------\n",
      "When n = 1100 \n",
      "Area : 7.8545454545454545 \n",
      "-----------------------------------\n",
      "When n = 1200 \n",
      "Area : 7.2 \n",
      "-----------------------------------\n",
      "When n = 1300 \n",
      "Area : 7.643076923076923 \n",
      "-----------------------------------\n",
      "When n = 1400 \n",
      "Area : 7.56 \n",
      "-----------------------------------\n",
      "When n = 1500 \n",
      "Area : 7.248 \n",
      "-----------------------------------\n"
     ]
    }
   ],
   "source": [
    "# Set input, which is number of random points to be generated.\n",
    "# As I am going to test 100, 200, 300, ... , 1000, I will make n as list and use one at a time\n",
    "n = list(range(500, 1600, 100))\n",
    "\n",
    "# I will set c, which is the count of points inside the desired area, and initialize with 0\n",
    "c = 0\n",
    "\n",
    "for rep in n: # take rep in n, so rep will be 100, 200, 300, ...\n",
    "    c = 0\n",
    "    for _ in range(rep): # repeat as much as the rep\n",
    "        x = np.random.rand() * 6 # multiply the random number by 6 to make it between 0 and 6\n",
    "        y = np.random.rand() * 6\n",
    "        if x**2 <= y and 6 - x >= y: # it should be under y = x^2 and y = 6 - x\n",
    "            c += 1\n",
    " \n",
    "    area = 36 * c / rep # the area is Area of Bounding Box * c / n\n",
    "    print(\"When n = {} \\nArea : {} \".format(rep, area))\n",
    "    print('-'*35)"
   ]
  },
  {
   "cell_type": "markdown",
   "id": "b9cc4c4f",
   "metadata": {},
   "source": [
    "# Problem 5.3.2"
   ]
  },
  {
   "cell_type": "code",
   "execution_count": 110,
   "id": "4bc5d0da",
   "metadata": {
    "scrolled": false
   },
   "outputs": [
    {
     "name": "stdout",
     "output_type": "stream",
     "text": [
      "---------------------------------------------\n",
      "When n = 1000, Probability = 0.331\n",
      "---------------------------------------------\n",
      "When n = 2000, Probability = 0.3225\n",
      "---------------------------------------------\n",
      "When n = 3000, Probability = 0.323\n",
      "---------------------------------------------\n",
      "When n = 4000, Probability = 0.309\n",
      "---------------------------------------------\n",
      "When n = 5000, Probability = 0.295\n",
      "---------------------------------------------\n",
      "When n = 6000, Probability = 0.323\n",
      "---------------------------------------------\n",
      "When n = 7000, Probability = 0.315\n",
      "---------------------------------------------\n",
      "When n = 8000, Probability = 0.32075\n",
      "---------------------------------------------\n",
      "When n = 9000, Probability = 0.31544444444444447\n",
      "---------------------------------------------\n",
      "When n = 10000, Probability = 0.3137\n"
     ]
    }
   ],
   "source": [
    "n = list(range(1000, 11000, 1000))\n",
    "\n",
    "for rep in n:\n",
    "    T = 0\n",
    "    for _ in range(rep):\n",
    "        H = 0\n",
    "        for _ in range(5):\n",
    "            f = np.random.rand()\n",
    "            if f <= 0.5:\n",
    "                H += 1\n",
    "        if H == 3:\n",
    "            T += 1\n",
    "    print(\"-\"*45)\n",
    "    print(\"When n = {}, Probability = {}\".format(rep, T/rep))"
   ]
  },
  {
   "cell_type": "markdown",
   "id": "7d2f9e65",
   "metadata": {},
   "source": [
    "# Problem 5.3.4"
   ]
  },
  {
   "cell_type": "code",
   "execution_count": 106,
   "id": "386b4b89",
   "metadata": {},
   "outputs": [
    {
     "name": "stdout",
     "output_type": "stream",
     "text": [
      "Number of Occurence for Each Sum : [11, 8, 31, 49, 45, 51, 33, 25, 21, 18, 8]\n"
     ]
    }
   ],
   "source": [
    "n = 300\n",
    "\n",
    "S = [0,0,0,0,0,0,0,0,0,0,0]\n",
    "\n",
    "for _ in range(n):\n",
    "    t = 0\n",
    "    x = np.random.rand(); y = np.random.rand()\n",
    "    if x < 0.1:\n",
    "        t += 1\n",
    "    if x < 0.2 and x >= 0.1:\n",
    "        t += 2\n",
    "    if x < 0.4 and x >= 0.2:\n",
    "        t += 3\n",
    "    if x < 0.7 and x >= 0.4:\n",
    "        t += 4\n",
    "    if x < 0.9 and x >= 0.7:\n",
    "        t += 5\n",
    "    if x >= 0.9:\n",
    "        t += 6\n",
    "    if y < 0.3:\n",
    "        t += 1\n",
    "    if y < 0.4 and y >= 0.3:\n",
    "        t += 2\n",
    "    if y < 0.6 and y >= 0.4:\n",
    "        t += 3\n",
    "    if y < 0.7 and y >= 0.6:\n",
    "        t += 4\n",
    "    if y < 0.75 and y >= 0.7:\n",
    "        t += 5\n",
    "    if y >= 0.75:\n",
    "        t += 6\n",
    "\n",
    "    S[t-2] += 1\n",
    "print(\"Number of Occurence for Each Sum :\",S)"
   ]
  },
  {
   "cell_type": "markdown",
   "id": "b1cd2742",
   "metadata": {},
   "source": [
    "# Final Problem"
   ]
  },
  {
   "cell_type": "code",
   "execution_count": 118,
   "id": "caeea1ff",
   "metadata": {},
   "outputs": [
    {
     "name": "stdout",
     "output_type": "stream",
     "text": [
      "----------------------------------------\n",
      "Number of Game : 100\n",
      "When Player 1 calls \"evens\" all the time,\n",
      "player 1 wins $50  player 2 wins $50\n",
      "\n",
      "When Player 1 calls \"odds\" all the time, \n",
      "player 1 wins $50  player 2 wins $50\n",
      "----------------------------------------\n",
      "Number of Game : 300\n",
      "When Player 1 calls \"evens\" all the time,\n",
      "player 1 wins $162  player 2 wins $138\n",
      "\n",
      "When Player 1 calls \"odds\" all the time, \n",
      "player 1 wins $138  player 2 wins $162\n",
      "----------------------------------------\n",
      "Number of Game : 500\n",
      "When Player 1 calls \"evens\" all the time,\n",
      "player 1 wins $269  player 2 wins $231\n",
      "\n",
      "When Player 1 calls \"odds\" all the time, \n",
      "player 1 wins $231  player 2 wins $269\n",
      "----------------------------------------\n",
      "Number of Game : 700\n",
      "When Player 1 calls \"evens\" all the time,\n",
      "player 1 wins $330  player 2 wins $370\n",
      "\n",
      "When Player 1 calls \"odds\" all the time, \n",
      "player 1 wins $370  player 2 wins $330\n",
      "----------------------------------------\n",
      "Number of Game : 900\n",
      "When Player 1 calls \"evens\" all the time,\n",
      "player 1 wins $474  player 2 wins $426\n",
      "\n",
      "When Player 1 calls \"odds\" all the time, \n",
      "player 1 wins $426  player 2 wins $474\n"
     ]
    }
   ],
   "source": [
    "n = list(range(100, 1100, 200))\n",
    "\n",
    "for rep in n:\n",
    "    p1_strat1 = 0\n",
    "    p1_strat2 = 0\n",
    "    for i in range(rep):\n",
    "        xi = np.random.rand()*2 - 1\n",
    "        yi = np.random.rand()*2 - 1\n",
    "        if xi * yi > 0:\n",
    "            p1_strat1 += 1\n",
    "        elif xi*yi < 0:\n",
    "            p1_strat2 += 1\n",
    "\n",
    "    print('-'*40)\n",
    "    print(\"Number of Game : {}\".format(rep))\n",
    "    print(\"When Player 1 calls \\\"evens\\\" all the time,\\nplayer 1 wins ${}  player 2 wins ${}\".format(p1_strat1, rep-p1_strat1))\n",
    "    print(\"\\nWhen Player 1 calls \\\"odds\\\" all the time, \\nplayer 1 wins ${}  player 2 wins ${}\".format(p1_strat2, rep-p1_strat2))"
   ]
  },
  {
   "cell_type": "code",
   "execution_count": null,
   "id": "2ec8dccd",
   "metadata": {},
   "outputs": [],
   "source": []
  }
 ],
 "metadata": {
  "kernelspec": {
   "display_name": "Python 3 (ipykernel)",
   "language": "python",
   "name": "python3"
  },
  "language_info": {
   "codemirror_mode": {
    "name": "ipython",
    "version": 3
   },
   "file_extension": ".py",
   "mimetype": "text/x-python",
   "name": "python",
   "nbconvert_exporter": "python",
   "pygments_lexer": "ipython3",
   "version": "3.10.9"
  }
 },
 "nbformat": 4,
 "nbformat_minor": 5
}
