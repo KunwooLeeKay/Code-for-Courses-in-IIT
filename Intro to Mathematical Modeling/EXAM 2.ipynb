{
 "cells": [
  {
   "cell_type": "code",
   "execution_count": 1,
   "id": "a012e6c0",
   "metadata": {},
   "outputs": [],
   "source": [
    "import numpy as np"
   ]
  },
  {
   "cell_type": "markdown",
   "id": "641cb747",
   "metadata": {},
   "source": [
    "# Q4.\n",
    "\n",
    "To find the long-term probability of students eating at each dining hall, I will use the eigenvector of matrix P.transpose() when eigenvalue is 1."
   ]
  },
  {
   "cell_type": "code",
   "execution_count": 2,
   "id": "0af67d0a",
   "metadata": {},
   "outputs": [
    {
     "name": "stdout",
     "output_type": "stream",
     "text": [
      "eigen value: 0.25\n",
      "eigenvector : [-0.70710678  0.70710678]\n",
      "------------------------------------------------------------\n",
      "eigen value: 1.0\n",
      "eigenvector : [-0.34174306 -0.93979342]\n",
      "------------------------------------------------------------\n",
      "Long Term, An = 26.667%, Bn = 73.333%\n"
     ]
    }
   ],
   "source": [
    "P = np.array([[0.45, 0.55], [0.20, 0.80] ])\n",
    "P = P.transpose()\n",
    "eigval, eigvec = np.linalg.eig(P)\n",
    "eigvec = np.hsplit(eigvec, 2)\n",
    "\n",
    "for i in range(2):\n",
    "    print(\"eigen value: {}\\neigenvector : {}\".format(eigval[i], eigvec[i].ravel()))\n",
    "    print(\"-\"*60)\n",
    "    if eigval[i] == 1.0:\n",
    "        eigvec = eigvec[i]\n",
    "\n",
    "# Normalize the eigenvector so if we add An and Bn, we get 1 (Make them positive value on the way)\n",
    "\n",
    "eigvec /= np.sum(eigvec)\n",
    "print(\"Long Term, An = {}%, Bn = {}%\".format((eigvec[0][0]*100).round(3), (eigvec[1][0]*100).round(3)))"
   ]
  },
  {
   "cell_type": "markdown",
   "id": "9427d829",
   "metadata": {},
   "source": [
    "# Q5.\n",
    "Monte Carlo algorithm"
   ]
  },
  {
   "cell_type": "code",
   "execution_count": 24,
   "id": "e7a5de66",
   "metadata": {},
   "outputs": [
    {
     "name": "stdout",
     "output_type": "stream",
     "text": [
      "Estimated Area When n = 100 : 265.68\n"
     ]
    }
   ],
   "source": [
    "def ellipsoid(x,y,z):\n",
    "    return (x**2)/2 + (y**2)/4 + (z**2)/8\n",
    "\n",
    "# Bounding box : [0,6] x [0,9] x [0,12]\n",
    "b_box = 6 * 9 * 12\n",
    "\n",
    "n = 100\n",
    "c = 0\n",
    "\n",
    "for i in range(n):\n",
    "    x = np.random.rand() * 6\n",
    "    y = np.random.rand() * 9\n",
    "    z = np.random.rand() * 12\n",
    "    if ellipsoid(x,y,z) <= 16:\n",
    "        c += 1\n",
    "print(\"Estimated Area When n = {} : {}\".format(n, b_box * c / n))"
   ]
  },
  {
   "cell_type": "code",
   "execution_count": 25,
   "id": "1febc7eb",
   "metadata": {},
   "outputs": [
    {
     "name": "stdout",
     "output_type": "stream",
     "text": [
      "Estimated Area When n = 500 : 266.976\n"
     ]
    }
   ],
   "source": [
    "n = 500\n",
    "c = 0\n",
    "\n",
    "for i in range(n):\n",
    "    x = np.random.rand() * 6\n",
    "    y = np.random.rand() * 9\n",
    "    z = np.random.rand() * 12\n",
    "    if ellipsoid(x,y,z) <= 16:\n",
    "        c += 1\n",
    "print(\"Estimated Area When n = {} : {}\".format(n, b_box * c / n))"
   ]
  }
 ],
 "metadata": {
  "kernelspec": {
   "display_name": "Python 3 (ipykernel)",
   "language": "python",
   "name": "python3"
  },
  "language_info": {
   "codemirror_mode": {
    "name": "ipython",
    "version": 3
   },
   "file_extension": ".py",
   "mimetype": "text/x-python",
   "name": "python",
   "nbconvert_exporter": "python",
   "pygments_lexer": "ipython3",
   "version": "3.10.9"
  }
 },
 "nbformat": 4,
 "nbformat_minor": 5
}
