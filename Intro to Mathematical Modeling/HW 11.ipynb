{
 "cells": [
  {
   "cell_type": "markdown",
   "id": "7c9d82a1",
   "metadata": {},
   "source": [
    "# Q 12.5.7."
   ]
  },
  {
   "cell_type": "code",
   "execution_count": 2,
   "id": "b08238d0",
   "metadata": {},
   "outputs": [
    {
     "name": "stdout",
     "output_type": "stream",
     "text": [
      "x : [0.5, -0.25, -0.46875, -1.04461669921875, -1.9756261171642109]\n",
      "y : [1, -0.0625, 0.380859375, 0.3856104612350464, 0.7198974896054628]\n"
     ]
    }
   ],
   "source": [
    "def dxdt(x,y):\n",
    "    return x - x*y -3/4*y\n",
    "\n",
    "def dydt(x,y):\n",
    "    return x*y - y -3/4*x\n",
    "\n",
    "x = [1/2]; y = [1]\n",
    "\n",
    "for _ in range(4):\n",
    "    x.append(x[-1] + dxdt(x[-1], y[-1]))\n",
    "    y.append(y[-1] + dydt(x[-1], y[-1]))\n",
    "\n",
    "print(\"x :\", x)\n",
    "print(\"y :\", y)"
   ]
  },
  {
   "cell_type": "code",
   "execution_count": null,
   "id": "6aa136d7",
   "metadata": {},
   "outputs": [],
   "source": []
  }
 ],
 "metadata": {
  "kernelspec": {
   "display_name": "Python 3 (ipykernel)",
   "language": "python",
   "name": "python3"
  },
  "language_info": {
   "codemirror_mode": {
    "name": "ipython",
    "version": 3
   },
   "file_extension": ".py",
   "mimetype": "text/x-python",
   "name": "python",
   "nbconvert_exporter": "python",
   "pygments_lexer": "ipython3",
   "version": "3.10.9"
  }
 },
 "nbformat": 4,
 "nbformat_minor": 5
}
