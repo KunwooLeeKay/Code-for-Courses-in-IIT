{
 "cells": [
  {
   "cell_type": "code",
   "execution_count": 1,
   "id": "c2f50ed6",
   "metadata": {},
   "outputs": [],
   "source": [
    "import numpy as np"
   ]
  },
  {
   "cell_type": "markdown",
   "id": "d88e00c5",
   "metadata": {},
   "source": [
    "# Matrix and Vectors\n",
    "1. Shape of A = ( # of rows (m) , # of columns (n) )\n",
    "- if m = n, square matrix : very important in engineering problems\n",
    "- else, non-square matrix : important for curve-fitting (broadly)  \n",
    "2. For a matrix A(m,n) - can access to each elements with []\n",
    "- A[0,0] : row 1 column 1 , A[1,0] : row 2 column 1 , ...\n",
    "3. Diagonal matrix : all values are zero except the diagonal elements in a square matrix A(n,n)\n",
    "- written A[i,j] == 0 at i!= j\n",
    "4. Identity matrix : diagonal matrix w/ only 1s in the element : A[i,j] == 0 at i!= j, A[i,j] == 1 at i = j\n",
    "- IM = M = MI\n",
    "5. Lower triangular matrix : lower triangular region of matrix is non-zero while others are zero (important in algoritmic things)\n",
    "- A[i,j] == 0 at i < j, A[i,j] != 0 at i >= j\n",
    "6. Symmetric matrix \n",
    "- A[i,j] == A[j,i]\n",
    "- A.transpose = A\n",
    "7. Transpose of matrix\n",
    "- B = A.Transpose, A[i,j] = B[j,i]"
   ]
  },
  {
   "cell_type": "markdown",
   "id": "24456aad",
   "metadata": {},
   "source": [
    "# Inverse Matrix\n",
    "1. Matrix Multiplication\n",
    "- A(m,n), B(p,q) : to be able to perform multiplication, n = p\n",
    "- C = A x B -> C(m,q)\n",
    "2. Inverse Matrix is only discussed for square matrix ( can obtain inverse from non-square, called sudo-inverse)\n",
    "- Def) A(inverse) x A(n,n) = A(n,n) x A(inverse) = I\n",
    "- Determinant of A != 0 for inverse to exist"
   ]
  },
  {
   "cell_type": "code",
   "execution_count": 14,
   "id": "64a74a6b",
   "metadata": {},
   "outputs": [
    {
     "name": "stdout",
     "output_type": "stream",
     "text": [
      "[[1 2]\n",
      " [3 4]]\n",
      "[[0.53 0.46 0.93 0.49 0.53]\n",
      " [0.1  0.77 0.76 0.05 0.5 ]]\n",
      "[[0.82 0.04 0.72 0.14 0.42 0.63]\n",
      " [0.82 0.65 0.73 0.81 0.93 0.45]\n",
      " [0.53 0.72 0.68 0.47 0.32 0.32]\n",
      " [0.47 0.67 0.37 0.92 0.44 0.7 ]\n",
      " [0.75 0.37 0.73 0.01 0.53 0.83]]\n"
     ]
    }
   ],
   "source": [
    "# create a square matrix A, non square matrix B, C\n",
    "A = np.arange(1,5); A = A.reshape(2,2)\n",
    "B = np.random.rand(2,5).round(2)\n",
    "C = np.random.rand(5,6).round(2)\n",
    "print(A,B,C, sep = '\\n')"
   ]
  },
  {
   "cell_type": "code",
   "execution_count": 15,
   "id": "54fdc9a8",
   "metadata": {},
   "outputs": [
    {
     "name": "stdout",
     "output_type": "stream",
     "text": [
      "B x C = D, shape of D : (2, 6)\n"
     ]
    }
   ],
   "source": [
    "# col of B = row of C, so\n",
    "D = B@C\n",
    "print(\"B x C = D, shape of D :\", D.shape)"
   ]
  },
  {
   "cell_type": "code",
   "execution_count": 16,
   "id": "5264e72a",
   "metadata": {},
   "outputs": [
    {
     "name": "stdout",
     "output_type": "stream",
     "text": [
      "Identity Matrix\n",
      "[[1. 0.]\n",
      " [0. 1.]]\n"
     ]
    }
   ],
   "source": [
    "# create identity matrix : eye\n",
    "I = np.eye(2)\n",
    "print(\"Identity Matrix\", I, sep = '\\n')"
   ]
  },
  {
   "cell_type": "code",
   "execution_count": 17,
   "id": "9bf34d2f",
   "metadata": {},
   "outputs": [
    {
     "name": "stdout",
     "output_type": "stream",
     "text": [
      "[[0.53 0.46 0.93 0.49 0.53]\n",
      " [0.1  0.77 0.76 0.05 0.5 ]]\n",
      "[[0.53 0.1 ]\n",
      " [0.46 0.77]\n",
      " [0.93 0.76]\n",
      " [0.49 0.05]\n",
      " [0.53 0.5 ]]\n"
     ]
    }
   ],
   "source": [
    "# Transpose of B\n",
    "print(B, B.T, sep = '\\n')"
   ]
  },
  {
   "cell_type": "code",
   "execution_count": 19,
   "id": "9db8a4db",
   "metadata": {},
   "outputs": [
    {
     "name": "stdout",
     "output_type": "stream",
     "text": [
      "[[0.7840813  0.17486515 0.82422356]\n",
      " [0.28507045 0.04039855 0.95155801]\n",
      " [0.59606926 0.13074755 0.06130392]]\n",
      "for random matrix E, E + E.T is symmetric.\n",
      "[[1.5681626  0.4599356  1.42029282]\n",
      " [0.4599356  0.0807971  1.08230556]\n",
      " [1.42029282 1.08230556 0.12260785]]\n"
     ]
    }
   ],
   "source": [
    "# Create a symmetrix matrix\n",
    "E = np.random.rand(3,3)\n",
    "print(E)\n",
    "F = E + E.T\n",
    "print(\"for random matrix E, E + E.T is symmetric.\", F, sep = '\\n')"
   ]
  },
  {
   "cell_type": "code",
   "execution_count": 21,
   "id": "ff79244a",
   "metadata": {},
   "outputs": [
    {
     "name": "stdout",
     "output_type": "stream",
     "text": [
      "[[1. 0. 0.]\n",
      " [0. 1. 0.]\n",
      " [0. 0. 1.]]\n"
     ]
    }
   ],
   "source": [
    "# Inverse of F\n",
    "Finv = np.linalg.inv(F)\n",
    "print((F@Finv).round(10))"
   ]
  },
  {
   "cell_type": "markdown",
   "id": "2a24954d",
   "metadata": {},
   "source": [
    "# How to solve system of linear equations\n",
    "- system of linear equations  \n",
    "2x + 5y = -10  \n",
    "3x - 10y = 2\n",
    "- matrix form : Ax = B  \n",
    "solution is : x = A(inverse) x B\n",
    "- Being able to calculate inverse is the key to solving engineering problems"
   ]
  },
  {
   "cell_type": "code",
   "execution_count": 23,
   "id": "14ff88de",
   "metadata": {},
   "outputs": [
    {
     "name": "stdout",
     "output_type": "stream",
     "text": [
      "[[-2.57142857]\n",
      " [-0.97142857]]\n"
     ]
    }
   ],
   "source": [
    "A = np.array([[2,5], [3,-10]])\n",
    "B = np.array([[-10], [2]])\n",
    "x = np.linalg.inv(A)@B\n",
    "print(x)"
   ]
  },
  {
   "cell_type": "code",
   "execution_count": 25,
   "id": "ff2b763c",
   "metadata": {},
   "outputs": [
    {
     "name": "stdout",
     "output_type": "stream",
     "text": [
      "[[ 0.72527473]\n",
      " [-2.29010989]\n",
      " [-0.2967033 ]]\n"
     ]
    }
   ],
   "source": [
    "# slightly more complicated example\n",
    "# 2x+5y = -10\n",
    "# 3x-10y+7z = 23\n",
    "# -5x+8z = -6\n",
    "A = np.array([[2,5,0],[3,-10,7],[-5,0,8]])\n",
    "B = np.array([[-10], [23], [-6]])\n",
    "x = np.linalg.inv(A)@B\n",
    "print(x)"
   ]
  }
 ],
 "metadata": {
  "kernelspec": {
   "display_name": "tf",
   "language": "python",
   "name": "tf"
  },
  "language_info": {
   "codemirror_mode": {
    "name": "ipython",
    "version": 3
   },
   "file_extension": ".py",
   "mimetype": "text/x-python",
   "name": "python",
   "nbconvert_exporter": "python",
   "pygments_lexer": "ipython3",
   "version": "3.8.16"
  }
 },
 "nbformat": 4,
 "nbformat_minor": 5
}
