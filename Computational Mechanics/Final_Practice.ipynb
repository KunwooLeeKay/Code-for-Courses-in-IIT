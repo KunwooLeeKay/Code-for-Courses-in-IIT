{
 "cells": [
  {
   "cell_type": "code",
   "execution_count": 38,
   "id": "25792ff7",
   "metadata": {},
   "outputs": [],
   "source": [
    "import numpy as np\n",
    "from matplotlib import pyplot as plt\n",
    "from scipy.integrate import odeint\n",
    "from scipy.optimize import curve_fit\n",
    "from scipy.optimize import fsolve\n",
    "from scipy import io"
   ]
  },
  {
   "cell_type": "markdown",
   "id": "ec6258c1",
   "metadata": {},
   "source": [
    "# Q1."
   ]
  },
  {
   "cell_type": "code",
   "execution_count": 4,
   "id": "2f67a693",
   "metadata": {},
   "outputs": [],
   "source": [
    "def population(pop, t):\n",
    "    x, y = pop\n",
    "    dpop_dt = [x*(1 - y), -y*(1 - x)]\n",
    "    return dpop_dt"
   ]
  },
  {
   "cell_type": "code",
   "execution_count": 19,
   "id": "aec13a69",
   "metadata": {},
   "outputs": [
    {
     "name": "stdout",
     "output_type": "stream",
     "text": [
      "Answer =  [0.49481361]\n"
     ]
    }
   ],
   "source": [
    "initial = tuple([2, 1])\n",
    "t = np.linspace(0, 10, 1001)\n",
    "\n",
    "sol = odeint(population, initial, t)\n",
    "x = sol[:,0]\n",
    "print(\"Answer =\", x[np.where(t == 2)])"
   ]
  },
  {
   "cell_type": "markdown",
   "id": "8f0f48e8",
   "metadata": {},
   "source": [
    "# Q2."
   ]
  },
  {
   "cell_type": "code",
   "execution_count": 21,
   "id": "c4f9c385",
   "metadata": {},
   "outputs": [],
   "source": [
    "def curve(x, a0, a1, a2):\n",
    "    return a0 + a1*x + a2*x**2"
   ]
  },
  {
   "cell_type": "code",
   "execution_count": 23,
   "id": "7999f59e",
   "metadata": {},
   "outputs": [],
   "source": [
    "x = np.array(list(range(8)))\n",
    "y = np.array([9, 18, 22, 37, 43, 65, 80, 95])\n",
    "pars, _ = curve_fit(curve, xdata = x, ydata = y, p0 = [10, 10, 10], maxfev = 100000)"
   ]
  },
  {
   "cell_type": "code",
   "execution_count": 25,
   "id": "8e88a5cb",
   "metadata": {},
   "outputs": [
    {
     "name": "stdout",
     "output_type": "stream",
     "text": [
      "a2 = 0.9821428571231845\n"
     ]
    }
   ],
   "source": [
    "print(\"a2 =\", pars[2])"
   ]
  },
  {
   "cell_type": "markdown",
   "id": "e5fd3377",
   "metadata": {},
   "source": [
    "# Q3."
   ]
  },
  {
   "cell_type": "code",
   "execution_count": 65,
   "id": "d72df726",
   "metadata": {},
   "outputs": [
    {
     "name": "stdout",
     "output_type": "stream",
     "text": [
      "0.6762385361337292\n"
     ]
    }
   ],
   "source": [
    "A = np.array([86, 90, 1])\n",
    "B = np.array([23, 58, 26])\n",
    "C = np.cross(A,B)\n",
    "C = C/np.linalg.norm(C)\n",
    "print(C[2])"
   ]
  },
  {
   "cell_type": "markdown",
   "id": "5269dcdf",
   "metadata": {},
   "source": [
    "# Q4."
   ]
  },
  {
   "cell_type": "code",
   "execution_count": 28,
   "id": "17c77710",
   "metadata": {},
   "outputs": [
    {
     "name": "stdout",
     "output_type": "stream",
     "text": [
      "[-0.42562827 -0.68100522  0.59587957]\n"
     ]
    }
   ],
   "source": [
    "A = np.array([2,-3,-2])\n",
    "B = np.array([5,3,7])\n",
    "C = np.cross(A,B)\n",
    "C = C/np.linalg.norm(C)\n",
    "print(C)"
   ]
  },
  {
   "cell_type": "markdown",
   "id": "1b02656e",
   "metadata": {},
   "source": [
    "# Q5."
   ]
  },
  {
   "cell_type": "code",
   "execution_count": 29,
   "id": "b9441878",
   "metadata": {},
   "outputs": [
    {
     "name": "stdout",
     "output_type": "stream",
     "text": [
      "4114\n"
     ]
    }
   ],
   "source": [
    "A = np.array([ [66, 47, 0], [42, 2, 64], [32, 25, 15] ])\n",
    "B = np.array([ [53, 93], [32, 72], [28, 1] ])\n",
    "C = A@B\n",
    "print(C[1,1])"
   ]
  },
  {
   "cell_type": "markdown",
   "id": "c624feb0",
   "metadata": {},
   "source": [
    "# Q6."
   ]
  },
  {
   "cell_type": "code",
   "execution_count": 31,
   "id": "f9457185",
   "metadata": {},
   "outputs": [
    {
     "name": "stdout",
     "output_type": "stream",
     "text": [
      "[24.43009578  7.77504664 -5.48004748 -0.66430753 -2.06078741]\n"
     ]
    }
   ],
   "source": [
    "A = np.array([1,2,3,4,5,2,4,7,1,2,3,7,8,5,6,4,1,5,8,10,5,2,6,10,3])\n",
    "A = A.reshape(5,5)\n",
    "\n",
    "eigval, eigvec = np.linalg.eig(A)\n",
    "print(eigval)"
   ]
  },
  {
   "cell_type": "markdown",
   "id": "25e9fb06",
   "metadata": {},
   "source": [
    "# Q7."
   ]
  },
  {
   "cell_type": "code",
   "execution_count": 37,
   "id": "646a8dee",
   "metadata": {},
   "outputs": [
    {
     "name": "stdout",
     "output_type": "stream",
     "text": [
      "Zeros : {0.0, 8.39068, 2.34384, -4.06785}\n"
     ]
    }
   ],
   "source": [
    "def eq(x): \n",
    "    return (x**4 / 4 - 5*x**3 / 3 - 12 * x**2 /2 + 20*x)\n",
    "\n",
    "guess_list = list(range(-100, 100))\n",
    "answers = []\n",
    "for guess in guess_list:\n",
    "    x = fsolve(eq, guess)\n",
    "    answers.append(x[0].round(5))\n",
    "    \n",
    "answers = set(answers)\n",
    "print(\"Zeros :\", answers)"
   ]
  },
  {
   "cell_type": "markdown",
   "id": "5d225193",
   "metadata": {},
   "source": [
    "# Q8."
   ]
  },
  {
   "cell_type": "code",
   "execution_count": 60,
   "id": "923c820e",
   "metadata": {},
   "outputs": [
    {
     "name": "stdout",
     "output_type": "stream",
     "text": [
      "Mixed Signal : 50.0\n",
      "Mixed Signal : 120.0\n"
     ]
    },
    {
     "data": {
      "image/png": "[encoded data removed]",
      "text/plain": [
       "<Figure size 1440x720 with 1 Axes>"
      ]
     },
     "metadata": {
      "needs_background": "light"
     },
     "output_type": "display_data"
    }
   ],
   "source": [
    "path = '/Users/kunwoosmac/Desktop/data.mat'\n",
    "data = io.loadmat(path)\n",
    "\n",
    "s = data['s'][0]\n",
    "Fs = 1000 # Hz\n",
    "dt = 1 / Fs\n",
    "\n",
    "# time vector : n * dt\n",
    "t = [n*dt for n in list(range(len(s)))]\n",
    "\n",
    "s_fft = abs(np.fft.fft(s))\n",
    "fk = [Fs * k / len(s) for k in range(len(s))]\n",
    "\n",
    "# Only half is useful\n",
    "s_fft = s_fft[:int(len(s_fft)/2)]\n",
    "fk = fk[:int(len(fk)/2)]\n",
    "\n",
    "plt.figure(figsize = (20,10))\n",
    "plt.plot(fk, s_fft)\n",
    "\n",
    "threshold = 100\n",
    "indices = []\n",
    "\n",
    "for val in s_fft:\n",
    "    if val > threshold:\n",
    "        indices.append(np.where(s_fft == val)[0][0])\n",
    "\n",
    "for index in indices:\n",
    "    print(\"Mixed Signal :\", fk[int(index)])"
   ]
  },
  {
   "cell_type": "markdown",
   "id": "82680339",
   "metadata": {},
   "source": [
    "# Q9."
   ]
  },
  {
   "cell_type": "code",
   "execution_count": 64,
   "id": "ddbeee6f",
   "metadata": {},
   "outputs": [
    {
     "name": "stdout",
     "output_type": "stream",
     "text": [
      "-19.28000000000002\n"
     ]
    }
   ],
   "source": [
    "# Coefficient Matrix A\n",
    "A = np.array([ [1,2,-1,0,1], [2,-1,1,-1,1], [5,3,6,-1,-1], [0,1,-8,7,10], [1,1,1,1,1] ])\n",
    "\n",
    "# Constant Vector b\n",
    "b = np.array([10, -5, 0, 20, -8])\n",
    "\n",
    "# Unknown Variable Vector x\n",
    "x = np.linalg.inv(A)@b\n",
    "\n",
    "print(x[2])"
   ]
  },
  {
   "cell_type": "code",
   "execution_count": null,
   "id": "a5013100",
   "metadata": {},
   "outputs": [],
   "source": []
  }
 ],
 "metadata": {
  "kernelspec": {
   "display_name": "Python 3 (ipykernel)",
   "language": "python",
   "name": "python3"
  },
  "language_info": {
   "codemirror_mode": {
    "name": "ipython",
    "version": 3
   },
   "file_extension": ".py",
   "mimetype": "text/x-python",
   "name": "python",
   "nbconvert_exporter": "python",
   "pygments_lexer": "ipython3",
   "version": "3.9.7"
  }
 },
 "nbformat": 4,
 "nbformat_minor": 5
}
