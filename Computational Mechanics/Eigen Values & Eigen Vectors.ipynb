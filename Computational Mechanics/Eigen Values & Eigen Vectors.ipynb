{
 "cells": [
  {
   "cell_type": "code",
   "execution_count": 1,
   "id": "b8e33ff5",
   "metadata": {},
   "outputs": [],
   "source": [
    "%matplotlib inline\n",
    "import numpy as np"
   ]
  },
  {
   "cell_type": "markdown",
   "id": "d4ced7f5",
   "metadata": {},
   "source": [
    "# Eigenvalues and Eigenvectors"
   ]
  },
  {
   "cell_type": "code",
   "execution_count": 4,
   "id": "1d0401b8",
   "metadata": {},
   "outputs": [
    {
     "name": "stdout",
     "output_type": "stream",
     "text": [
      "[[1.50424531 0.58168334 0.44793388]\n",
      " [0.58168334 1.2990317  1.52226769]\n",
      " [0.44793388 1.52226769 0.5211125 ]]\n",
      "[[ 0.47224921  0.88146378  0.00150907]\n",
      " [ 0.69642524 -0.3720632  -0.61364555]\n",
      " [ 0.54034486 -0.29084459  0.78958018]]\n",
      "[0.47224921 0.88146378 0.00150907] [0.47224921 0.69642524 0.54034486]\n",
      "========================================\n",
      "eigenvalue : 2.874576288636794, eigenvector : [0.47224921 0.69642524 0.54034486]\n",
      "eigenvalue : 1.1109198998702134, eigenvector : [ 0.88146378 -0.3720632  -0.29084459]\n",
      "eigenvalue : -0.6611066764199559, eigenvector : [ 0.00150907 -0.61364555  0.78958018]\n"
     ]
    }
   ],
   "source": [
    "A = np.random.rand(3,3)\n",
    "# Make A symmetric\n",
    "A = A + A.T\n",
    "print(A)\n",
    "\n",
    "eigval, eigvec = np.linalg.eig(A)\n",
    "\n",
    "# print(eigval)\n",
    "# print(eigvec)\n",
    "lambda1 = eigval[0]\n",
    "lambda2 = eigval[1]\n",
    "lambda3 = eigval[2]\n",
    "\n",
    "u1 = eigvec[:,0]\n",
    "u2 = eigvec[:,1]\n",
    "u3 = eigvec[:,2]\n",
    "print(\"=\"*40)\n",
    "print(\"eigenvalue : {}, eigenvector : {}\".format(lambda1, u1))\n",
    "print(\"eigenvalue : {}, eigenvector : {}\".format(lambda2, u2))\n",
    "print(\"eigenvalue : {}, eigenvector : {}\".format(lambda3, u3))"
   ]
  },
  {
   "cell_type": "code",
   "execution_count": 5,
   "id": "1fd7b25e",
   "metadata": {},
   "outputs": [
    {
     "name": "stdout",
     "output_type": "stream",
     "text": [
      "[2. 2.] [[ 1.0000000e+00 -1.0000000e+00]\n",
      " [ 0.0000000e+00  4.4408921e-16]]\n"
     ]
    }
   ],
   "source": [
    "B = np.array([ [2,1], [0,2] ])\n",
    "eigval, eigvec = np.linalg.eig(B)\n",
    "print(eigval, eigvec)"
   ]
  },
  {
   "cell_type": "code",
   "execution_count": 4,
   "id": "03a43034",
   "metadata": {},
   "outputs": [
    {
     "name": "stdout",
     "output_type": "stream",
     "text": [
      "[ 2.00054563e+03 -3.63616981e+01 -3.61712137e+01 ...  8.04428237e-01\n",
      " -1.46677203e-02 -1.39585514e+00]\n",
      "how many eigval 2000, same as n : 2000\n"
     ]
    }
   ],
   "source": [
    "n = 2000\n",
    "A = np.random.rand(n,n)\n",
    "# Make A symmetric\n",
    "A = A + A.T\n",
    "\n",
    "# if put high number in n, it takes a while, longer than inverse. EVP are the most complex thing to solve.\n",
    "eigval, eigvec = np.linalg.eig(A)\n",
    "print(eigval)\n",
    "\n",
    "print(\"how many eigval {}, same as n : {}\".format(len(eigval), n))"
   ]
  },
  {
   "cell_type": "code",
   "execution_count": null,
   "id": "6b70287e",
   "metadata": {},
   "outputs": [],
   "source": []
  }
 ],
 "metadata": {
  "kernelspec": {
   "display_name": "tf",
   "language": "python",
   "name": "tf"
  },
  "language_info": {
   "codemirror_mode": {
    "name": "ipython",
    "version": 3
   },
   "file_extension": ".py",
   "mimetype": "text/x-python",
   "name": "python",
   "nbconvert_exporter": "python",
   "pygments_lexer": "ipython3",
   "version": "3.8.0"
  }
 },
 "nbformat": 4,
 "nbformat_minor": 5
}
