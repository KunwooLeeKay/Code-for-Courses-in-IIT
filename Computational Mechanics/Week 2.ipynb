{
 "cells": [
  {
   "cell_type": "code",
   "execution_count": 7,
   "id": "92e39c76",
   "metadata": {},
   "outputs": [],
   "source": [
    "import numpy as np"
   ]
  },
  {
   "cell_type": "markdown",
   "id": "520f62fe",
   "metadata": {},
   "source": [
    "# Create Vectors\n",
    "## create a row vector"
   ]
  },
  {
   "cell_type": "code",
   "execution_count": 8,
   "id": "a82b3c2d",
   "metadata": {},
   "outputs": [
    {
     "name": "stdout",
     "output_type": "stream",
     "text": [
      "R\n",
      "[[1 2 3]]\n",
      "(1, 3)\n"
     ]
    }
   ],
   "source": [
    "R = np.array([[1,2,3]]) # two brakets to create matrix\n",
    "print(\"R\", R, np.shape(R), sep = '\\n')"
   ]
  },
  {
   "cell_type": "markdown",
   "id": "f096f984",
   "metadata": {},
   "source": [
    "## create a column vector"
   ]
  },
  {
   "cell_type": "code",
   "execution_count": 9,
   "id": "49dfe507",
   "metadata": {},
   "outputs": [
    {
     "name": "stdout",
     "output_type": "stream",
     "text": [
      "C\n",
      "[[5]\n",
      " [6]\n",
      " [7]]\n",
      "(3, 1)\n"
     ]
    }
   ],
   "source": [
    "C = np.array([[5],[6],[7]])\n",
    "print(\"C\", C, np.shape(C), sep = '\\n')"
   ]
  },
  {
   "cell_type": "markdown",
   "id": "abe34332",
   "metadata": {},
   "source": [
    "## sum of vectors"
   ]
  },
  {
   "cell_type": "code",
   "execution_count": 11,
   "id": "b53baa30",
   "metadata": {},
   "outputs": [
    {
     "name": "stdout",
     "output_type": "stream",
     "text": [
      "Sum : [[-9  9 33]]\n"
     ]
    }
   ],
   "source": [
    "A = np.array([[-10, 7, 30]])\n",
    "print(\"Sum :\", A+R)"
   ]
  },
  {
   "cell_type": "markdown",
   "id": "2d478b46",
   "metadata": {},
   "source": [
    "## 1-D vectors(not recommended!)"
   ]
  },
  {
   "cell_type": "code",
   "execution_count": 12,
   "id": "f21112d5",
   "metadata": {},
   "outputs": [
    {
     "name": "stdout",
     "output_type": "stream",
     "text": [
      "D\n",
      "[1 2 3]\n",
      "(3,)\n"
     ]
    }
   ],
   "source": [
    "D = np.array([10,2,5])\n",
    "print(\"D\", D, np.shape(D), sep = '\\n')"
   ]
  },
  {
   "cell_type": "markdown",
   "id": "40c46bc0",
   "metadata": {},
   "source": [
    "## Calculate the magnitude of R"
   ]
  },
  {
   "cell_type": "code",
   "execution_count": 21,
   "id": "1fe0da4f",
   "metadata": {},
   "outputs": [
    {
     "name": "stdout",
     "output_type": "stream",
     "text": [
      "[[1 2 3]]\n",
      "[[-10   7  30]]\n",
      "1 2 3\n",
      "3.7416573867739413\n",
      "3.7416573867739413\n",
      "(1, 9) 19.595917942265423\n"
     ]
    }
   ],
   "source": [
    "print(R);print(A)\n",
    "print(R[0,0], R[0,1], R[0,2])\n",
    "\n",
    "# Hard Coding\n",
    "Rmag = 0\n",
    "for i in range(R.shape[1]):\n",
    "    Rmag += R[0,i]**2\n",
    "    \n",
    "Rmag = np.sqrt(Rmag)\n",
    "print(Rmag)\n",
    "\n",
    "# Use dot and sqrt\n",
    "# Rsquared = np.dot(R, R)\n",
    "# print(np.sqrt(Rsquared))\n",
    "\n",
    "# Use library np.linalg.norm\n",
    "print(np.linalg.norm(R))\n",
    "\n",
    "T = np.array([[2,3,4,5,6,7,8,9,10]])\n",
    "print(np.shape(T), np.linalg.norm(T))"
   ]
  },
  {
   "cell_type": "markdown",
   "id": "2df8f632",
   "metadata": {},
   "source": [
    "## Dot and cross products"
   ]
  },
  {
   "cell_type": "code",
   "execution_count": 28,
   "id": "3f59dbe3",
   "metadata": {},
   "outputs": [
    {
     "name": "stdout",
     "output_type": "stream",
     "text": [
      "Dot Product\n",
      "python only calculate dot in vectors!! Use 1-D array\n",
      "54\n",
      "Cross Product\n",
      "[  2 -16  10]\n",
      "rad: 1.5707963267948966 degree 90.0\n"
     ]
    }
   ],
   "source": [
    "# Dot\n",
    "print(\"Dot Product\")\n",
    "A = np.array([[1,2,3]])\n",
    "B = np.array([[-1,8,13]])\n",
    "\n",
    "try:\n",
    "    print(np.dot(A,B))\n",
    "except:\n",
    "    print(\"python only calculate dot in vectors!! Use 1-D array\")\n",
    "    A = np.array([1,2,3])\n",
    "    B = np.array([-1,8,13])\n",
    "    print(np.dot(A,B))\n",
    "    \n",
    "# Cross\n",
    "print(\"Cross Product, btw cross product can take matix in calculation\")\n",
    "C = np.cross(A,B)\n",
    "print(C)\n",
    "\n",
    "theta = np.arccos(np.dot(A,C)/(np.linalg.norm(A)*np.linalg.norm(C)))\n",
    "print(\"rad:\", theta, \"degree\", theta*180/np.pi)\n"
   ]
  },
  {
   "cell_type": "markdown",
   "id": "852c1c5e",
   "metadata": {},
   "source": [
    "## Calculating the angle between vectors\n",
    "- angle = arccos(A dot B / mag(A)mag(B))"
   ]
  },
  {
   "cell_type": "code",
   "execution_count": 27,
   "id": "ae31f6b9",
   "metadata": {},
   "outputs": [
    {
     "name": "stdout",
     "output_type": "stream",
     "text": [
      "rad: 0.3378896111658608 degree 19.35964866112028\n"
     ]
    }
   ],
   "source": [
    "theta = np.arccos(np.dot(A,B)/(np.linalg.norm(A)*np.linalg.norm(B)))\n",
    "print(\"rad:\", theta, \"degree\", theta*180/np.pi)"
   ]
  }
 ],
 "metadata": {
  "kernelspec": {
   "display_name": "Python 3 (ipykernel)",
   "language": "python",
   "name": "python3"
  },
  "language_info": {
   "codemirror_mode": {
    "name": "ipython",
    "version": 3
   },
   "file_extension": ".py",
   "mimetype": "text/x-python",
   "name": "python",
   "nbconvert_exporter": "python",
   "pygments_lexer": "ipython3",
   "version": "3.9.7"
  }
 },
 "nbformat": 4,
 "nbformat_minor": 5
}
