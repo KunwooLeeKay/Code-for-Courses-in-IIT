{
 "cells": [
  {
   "cell_type": "code",
   "execution_count": 1,
   "id": "4b0b8ad1",
   "metadata": {},
   "outputs": [
    {
     "name": "stderr",
     "output_type": "stream",
     "text": [
      "/Users/kunwoosmac/opt/anaconda3/envs/tensorflow/lib/python3.8/site-packages/scipy/__init__.py:146: UserWarning: A NumPy version >=1.16.5 and <1.23.0 is required for this version of SciPy (detected version 1.23.1\n",
      "  warnings.warn(f\"A NumPy version >={np_minversion} and <{np_maxversion}\"\n"
     ]
    }
   ],
   "source": [
    "%matplotlib inline\n",
    "from matplotlib import pyplot as plt\n",
    "from scipy.optimize import fsolve\n",
    "import numpy as np\n",
    "import cmath\n",
    "from scipy.optimize import curve_fit"
   ]
  },
  {
   "cell_type": "markdown",
   "id": "13f18110",
   "metadata": {},
   "source": [
    "# Q1"
   ]
  },
  {
   "cell_type": "markdown",
   "id": "c6e67f7f",
   "metadata": {},
   "source": [
    "- Characteristic Equation : \n",
    "- det(A - x*I)\n",
    "- (1-x)*(4-x) - 4\n",
    "- Solve"
   ]
  },
  {
   "cell_type": "code",
   "execution_count": 2,
   "id": "00706d9a",
   "metadata": {},
   "outputs": [
    {
     "name": "stdout",
     "output_type": "stream",
     "text": [
      "Eigenvalue 1 : 0.0\n",
      "Eigenvalue 2: 5.0\n"
     ]
    }
   ],
   "source": [
    "def oneEquation(x): \n",
    "    return (1-x)*(4-x) - 4\n",
    "\n",
    "guess1 = -10\n",
    "z = fsolve(oneEquation, guess1)\n",
    "print(\"Eigenvalue 1 :\", z[0].round(10))\n",
    "\n",
    "guess2 = 10\n",
    "z = fsolve(oneEquation, guess2)\n",
    "print(\"Eigenvalue 2:\", z[0].round(10))"
   ]
  },
  {
   "cell_type": "markdown",
   "id": "d9f44f0c",
   "metadata": {},
   "source": [
    "# Q2\n",
    "- Find the principal stresses"
   ]
  },
  {
   "cell_type": "code",
   "execution_count": 3,
   "id": "42242241",
   "metadata": {},
   "outputs": [
    {
     "name": "stdout",
     "output_type": "stream",
     "text": [
      "principal stresses at the point : [36.00707038 -2.97943406  6.97236368]\n"
     ]
    }
   ],
   "source": [
    "Stress = np.array([[4,10,-1],[10,28,12],[-1,12,8]])\n",
    "eigval, eigvec = np.linalg.eig(Stress)\n",
    "print(\"principal stresses at the point :\", eigval)"
   ]
  },
  {
   "cell_type": "markdown",
   "id": "129a500b",
   "metadata": {},
   "source": [
    "- Find only the unit vector which is perpendicular/normal to the plane on which the principal stress with the minimum magnitude is acting"
   ]
  },
  {
   "cell_type": "code",
   "execution_count": 4,
   "id": "9d2683b8",
   "metadata": {},
   "outputs": [
    {
     "name": "stdout",
     "output_type": "stream",
     "text": [
      "Minimum : 2.9794340609330527, Index : 1\n",
      "Maximum : 36.007070380466395, Index : 0\n",
      "Second : 6.972363680466634, Index : 2\n",
      "========================================\n",
      "For Principal Stress  -2.9794340609330527\n",
      "vector: [-0.71100305  0.44150925 -0.54730636] , magnitude: 1.0\n"
     ]
    }
   ],
   "source": [
    "# Find the Index of Maximum, Minimum, Second Highest\n",
    "principal_stress = [abs(ps) for ps in list(eigval)]\n",
    "# index of minimum, maximum, second highest\n",
    "m = principal_stress.index(min(principal_stress))\n",
    "M = principal_stress.index(max(principal_stress))\n",
    "sec = [0,1,2]\n",
    "sec.remove(m);sec.remove(M)\n",
    "\n",
    "print(\"Minimum : {}, Index : {}\".format(min(principal_stress), m))\n",
    "print(\"Maximum : {}, Index : {}\".format(max(principal_stress), M))\n",
    "print(\"Second : {}, Index : {}\".format(principal_stress[sec[0]], sec[0]))\n",
    "\n",
    "\n",
    "eigvec_min = eigvec[:,m]\n",
    "\n",
    "# Make it unit vector\n",
    "eigvec_min = eigvec_min / (np.linalg.norm(eigvec_min))\n",
    "print(\"=\"*40)\n",
    "print(\"For Principal Stress \", eigval[m])\n",
    "print(\"vector:\", eigvec_min, \", magnitude:\",np.linalg.norm(eigvec_min))"
   ]
  },
  {
   "cell_type": "markdown",
   "id": "1b9d02a2",
   "metadata": {},
   "source": [
    "- Calculate the angles that the normal to the principal plane which has the second highest (in magnitude) principal stress makes with the x, y, z axes."
   ]
  },
  {
   "cell_type": "code",
   "execution_count": 5,
   "id": "6f49fa54",
   "metadata": {},
   "outputs": [
    {
     "name": "stdout",
     "output_type": "stream",
     "text": [
      "========================================\n",
      "For Principal Stress  [6.97236368]\n",
      "Normal Vector is [-0.65082716 -0.1184567   0.74992801]\n",
      "Angle with x : [130.60399548]\n",
      "Angle with y : [96.80304281]\n",
      "Angle with z : [41.41585809]\n"
     ]
    }
   ],
   "source": [
    "# the last element of list of eigenvalue is the second. take index 2\n",
    "\n",
    "eigvec_sec = eigvec[:,sec]\n",
    "\n",
    "axis = np.array([[1,0,0], [0,1,0], [0,0,1]])\n",
    "axis_name = ['x', 'y', 'z']\n",
    "\n",
    "# theta = np.arccos(np.dot(A,B)/(np.linalg.norm(A)*np.linalg.norm(B)))\n",
    "\n",
    "print(\"=\"*40)\n",
    "print(\"For Principal Stress \", eigval[sec])\n",
    "print(\"Normal Vector is\", eigvec_sec.ravel())\n",
    "\n",
    "for j in range(3):\n",
    "        theta = np.arccos(np.dot(axis[j,:],eigvec_sec)/(np.linalg.norm(axis[j,:])*np.linalg.norm(eigvec_sec))) * 180/np.pi\n",
    "        print(\"Angle with {} : {}\".format(axis_name[j], theta))\n"
   ]
  },
  {
   "cell_type": "markdown",
   "id": "d5d8ceaf",
   "metadata": {},
   "source": [
    "# Q3\n",
    "- Rearrange and show that the above equation can be written in the classical eigen- value equation form Ax = λx. Identify the components of the square matrix A in terms of m, k and show that the eigenvalue λ = −ω2."
   ]
  },
  {
   "cell_type": "markdown",
   "id": "6d013b3c",
   "metadata": {},
   "source": [
    "- it can be written as\n",
    "\n",
    "- np.array([[2k/m, -k/m], [-k/m, 2k/m]]) @ np.array([[x1], [x2]])=(-w^2)*np.array([[x1], [x2]])\n",
    "- which makes -w^2 the eigenvalue"
   ]
  },
  {
   "cell_type": "markdown",
   "id": "d25fb2f3",
   "metadata": {},
   "source": [
    "- Take m = 1, k = 2 and find ω1, ω2 by solving the eigenvalue problem."
   ]
  },
  {
   "cell_type": "code",
   "execution_count": 6,
   "id": "b0efae8f",
   "metadata": {},
   "outputs": [
    {
     "name": "stdout",
     "output_type": "stream",
     "text": [
      "j represents imaginary part\n",
      "w 0 : 2.449489742783178j, eigenvector 0 : [ 0.70710678 -0.70710678]\n",
      "w 1 : 1.4142135623730951j, eigenvector 1 : [0.70710678 0.70710678]\n"
     ]
    }
   ],
   "source": [
    "m = 1; k = 2\n",
    "System = np.array([[2*k/m, -k/m], [-k/m, 2*k/m]])\n",
    "\n",
    "eigval, eigvec = np.linalg.eig(System)\n",
    "\n",
    "# Calculate w\n",
    "w = [cmath.sqrt(-squared) for squared in eigval]\n",
    "print(\"j represents imaginary part\")\n",
    "for i in range(2):\n",
    "    print(\"w {} : {}, eigenvector {} : {}\".format(i,w[i],i,eigvec[:,i].ravel()))"
   ]
  },
  {
   "cell_type": "markdown",
   "id": "d49acbb2",
   "metadata": {},
   "source": [
    "# Q4\n",
    "-  Create a scatter plot for the data"
   ]
  },
  {
   "cell_type": "code",
   "execution_count": 7,
   "id": "4073e795",
   "metadata": {},
   "outputs": [
    {
     "data": {
      "text/plain": [
       "<matplotlib.collections.PathCollection at 0x7fbbcb452d90>"
      ]
     },
     "execution_count": 7,
     "metadata": {},
     "output_type": "execute_result"
    },
    {
     "data": {
      "image/png": "[encoded data removed]",
      "text/plain": [
       "<Figure size 1080x720 with 1 Axes>"
      ]
     },
     "metadata": {
      "needs_background": "light"
     },
     "output_type": "display_data"
    }
   ],
   "source": [
    "x = np.array(list(range(8)))\n",
    "y = np.array([10, 16.5, 24.18, 34.56, 47.38, 61.98, 79.23, 96.93])\n",
    "plt.figure(figsize = (15, 10))\n",
    "plt.scatter(x,y)"
   ]
  },
  {
   "cell_type": "markdown",
   "id": "71689d93",
   "metadata": {},
   "source": [
    "- Fit a curve to the dataset of the form yp = a0 +a1x+a2x2. Plot this curve on the same plot as the previous part. What are the values of a0,a1,a2?"
   ]
  },
  {
   "cell_type": "code",
   "execution_count": 8,
   "id": "06bc2434",
   "metadata": {},
   "outputs": [
    {
     "name": "stdout",
     "output_type": "stream",
     "text": [
      "a0 : 9.998333319752819, a1 : 5.144880957647057, a2 : 1.0479761900774784\n"
     ]
    },
    {
     "data": {
      "text/plain": [
       "<matplotlib.legend.Legend at 0x7fbbb88adc70>"
      ]
     },
     "execution_count": 8,
     "metadata": {},
     "output_type": "execute_result"
    },
    {
     "data": {
      "image/png": "[encoded data removed]",
      "text/plain": [
       "<Figure size 1080x720 with 1 Axes>"
      ]
     },
     "metadata": {
      "needs_background": "light"
     },
     "output_type": "display_data"
    }
   ],
   "source": [
    "def quadratic(x, a0, a1, a2):\n",
    "    return a0 + a1*x + a2*x**2\n",
    "\n",
    "pars_quad, _ = curve_fit(quadratic, xdata = x, ydata = y, p0 = [10, 10, 10])\n",
    "print(\"a0 : {}, a1 : {}, a2 : {}\".format(pars_quad[0],pars_quad[1],pars_quad[2]))\n",
    "plt.figure(figsize = (15,10))\n",
    "plt.plot(x, quadratic(x,pars_quad[0],pars_quad[1],pars_quad[2]), c = 'r', label = 'curve-fit')\n",
    "plt.scatter(x,y,label = 'original data')\n",
    "plt.legend()"
   ]
  },
  {
   "cell_type": "markdown",
   "id": "26202866",
   "metadata": {},
   "source": [
    "-  Estimate the value of y at x = 3.7"
   ]
  },
  {
   "cell_type": "code",
   "execution_count": 9,
   "id": "360c5fb9",
   "metadata": {},
   "outputs": [
    {
     "name": "stdout",
     "output_type": "stream",
     "text": [
      "Estimate value of y at x = 3.7 : 43.38118690520761\n",
      "========================================\n",
      "Check from plot\n"
     ]
    },
    {
     "data": {
      "text/plain": [
       "<matplotlib.collections.PathCollection at 0x7fbbb88f34f0>"
      ]
     },
     "execution_count": 9,
     "metadata": {},
     "output_type": "execute_result"
    },
    {
     "data": {
      "image/png": "[encoded data removed]",
      "text/plain": [
       "<Figure size 1080x720 with 1 Axes>"
      ]
     },
     "metadata": {
      "needs_background": "light"
     },
     "output_type": "display_data"
    }
   ],
   "source": [
    "estimate = quadratic(3.7,pars_quad[0],pars_quad[1],pars_quad[2])\n",
    "print(\"Estimate value of y at x = 3.7 :\",estimate)\n",
    "\n",
    "print('='*40)\n",
    "print(\"Check from plot\")\n",
    "plt.figure(figsize = (15, 10))\n",
    "plt.plot(x, quadratic(x,pars_quad[0],pars_quad[1],pars_quad[2]))\n",
    "plt.scatter(3.7, estimate, c = 'r')\n"
   ]
  },
  {
   "cell_type": "code",
   "execution_count": null,
   "id": "461b81be",
   "metadata": {},
   "outputs": [],
   "source": []
  }
 ],
 "metadata": {
  "kernelspec": {
   "display_name": "tf",
   "language": "python",
   "name": "tf"
  },
  "language_info": {
   "codemirror_mode": {
    "name": "ipython",
    "version": 3
   },
   "file_extension": ".py",
   "mimetype": "text/x-python",
   "name": "python",
   "nbconvert_exporter": "python",
   "pygments_lexer": "ipython3",
   "version": "3.8.0"
  }
 },
 "nbformat": 4,
 "nbformat_minor": 5
}
