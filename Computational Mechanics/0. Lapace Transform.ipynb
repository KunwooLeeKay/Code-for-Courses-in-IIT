{
 "cells": [
  {
   "cell_type": "markdown",
   "id": "46c1b4c4",
   "metadata": {},
   "source": [
    "# y''+y'+9y=0, y(0)=0.16, y'(0)=0"
   ]
  },
  {
   "cell_type": "code",
   "execution_count": 9,
   "id": "a67f3a30",
   "metadata": {},
   "outputs": [],
   "source": [
    "from sympy import *\n",
    "from sympy.integrals.transforms import laplace_transform\n",
    "from sympy.integrals.transforms import inverse_laplace_transform\n",
    "\n",
    "s = symbols('s')\n",
    "a, ω = symbols('a ω', constant=True, positive=True)\n",
    "n = symbols('n', constant=True, integer=True)\n",
    "x, y, z, t = symbols('x y z t')\n",
    "f, g, h = symbols('f, g, h', cls=Function)"
   ]
  },
  {
   "cell_type": "code",
   "execution_count": 10,
   "id": "47af81ae",
   "metadata": {},
   "outputs": [
    {
     "data": {
      "text/latex": [
       "$\\displaystyle Y s^{2} + Y s + 9 Y - 0.16 s - 0.16 = 0$"
      ],
      "text/plain": [
       "Eq(Y*s**2 + Y*s + 9*Y - 0.16*s - 0.16, 0)"
      ]
     },
     "execution_count": 10,
     "metadata": {},
     "output_type": "execute_result"
    }
   ],
   "source": [
    "y0 = 0.16 ; yp0 = 0\n",
    "\n",
    "Y = Symbol('Y')\n",
    "Ly = Y\n",
    "Lyp = s*Y - y0\n",
    "Lypp = s**2 * Y - s*y0 - yp0\n",
    "eqn = Eq( Lypp + Lyp + 9*Ly, 0)\n",
    "eqn"
   ]
  },
  {
   "cell_type": "code",
   "execution_count": 11,
   "id": "dfaea740",
   "metadata": {},
   "outputs": [
    {
     "data": {
      "text/plain": [
       "[0.16*(s + 1.0)/(s**2 + s + 9.0)]"
      ]
     },
     "execution_count": 11,
     "metadata": {},
     "output_type": "execute_result"
    }
   ],
   "source": [
    "solve( eqn, Y )"
   ]
  },
  {
   "cell_type": "code",
   "execution_count": 12,
   "id": "82f2a3be",
   "metadata": {},
   "outputs": [
    {
     "data": {
      "text/latex": [
       "$\\displaystyle \\frac{4 \\left(s + 1\\right)}{25 \\left(s^{2} + s + 9\\right)}$"
      ],
      "text/plain": [
       "4*(s + 1)/(25*(s**2 + s + 9))"
      ]
     },
     "execution_count": 12,
     "metadata": {},
     "output_type": "execute_result"
    }
   ],
   "source": [
    "Y = _[0].nsimplify()\n",
    "Y"
   ]
  },
  {
   "cell_type": "code",
   "execution_count": 13,
   "id": "e112696d",
   "metadata": {},
   "outputs": [
    {
     "data": {
      "text/latex": [
       "$\\displaystyle \\frac{4 \\sqrt{35} \\left(\\sin{\\left(\\frac{\\sqrt{35} t}{2} \\right)} + \\sqrt{35} \\cos{\\left(\\frac{\\sqrt{35} t}{2} \\right)}\\right) e^{- \\frac{t}{2}} \\theta\\left(t\\right)}{875}$"
      ],
      "text/plain": [
       "4*sqrt(35)*(sin(sqrt(35)*t/2) + sqrt(35)*cos(sqrt(35)*t/2))*exp(-t/2)*Heaviside(t)/875"
      ]
     },
     "execution_count": 13,
     "metadata": {},
     "output_type": "execute_result"
    }
   ],
   "source": [
    "y = inverse_laplace_transform( Y, s, t )\n",
    "y"
   ]
  },
  {
   "cell_type": "code",
   "execution_count": 17,
   "id": "603fcf91",
   "metadata": {},
   "outputs": [
    {
     "data": {
      "text/latex": [
       "$\\displaystyle Y s^{2} + 15 Y s + 50 Y - 3 s - 45 = \\frac{2}{s}$"
      ],
      "text/plain": [
       "Eq(Y*s**2 + 15*Y*s + 50*Y - 3*s - 45, 2/s)"
      ]
     },
     "execution_count": 17,
     "metadata": {},
     "output_type": "execute_result"
    }
   ],
   "source": [
    "y0 = 3 ; yp0 = 0\n",
    "\n",
    "Y = Symbol('Y')\n",
    "Ly = Y\n",
    "Lyp = s*Y - y0\n",
    "Lypp = s**2 * Y - s*y0 - yp0\n",
    "eqn = Eq( Lypp + 15*Lyp + 50*Ly, 2/s)\n",
    "eqn"
   ]
  },
  {
   "cell_type": "code",
   "execution_count": 16,
   "id": "cc11c3a0",
   "metadata": {},
   "outputs": [
    {
     "data": {
      "text/plain": [
       "(2/s, 0, True)"
      ]
     },
     "execution_count": 16,
     "metadata": {},
     "output_type": "execute_result"
    }
   ],
   "source": [
    "laplace_transform(2,t,s)"
   ]
  },
  {
   "cell_type": "code",
   "execution_count": 18,
   "id": "3b8516a5",
   "metadata": {},
   "outputs": [
    {
     "data": {
      "text/plain": [
       "[(3*s**2 + 45*s + 2)/(s*(s**2 + 15*s + 50))]"
      ]
     },
     "execution_count": 18,
     "metadata": {},
     "output_type": "execute_result"
    }
   ],
   "source": [
    "solve( eqn, Y )"
   ]
  },
  {
   "cell_type": "code",
   "execution_count": 19,
   "id": "5fc2ce15",
   "metadata": {},
   "outputs": [
    {
     "data": {
      "text/latex": [
       "$\\displaystyle \\frac{3 s^{2} + 45 s + 2}{s \\left(s^{2} + 15 s + 50\\right)}$"
      ],
      "text/plain": [
       "(3*s**2 + 45*s + 2)/(s*(s**2 + 15*s + 50))"
      ]
     },
     "execution_count": 19,
     "metadata": {},
     "output_type": "execute_result"
    }
   ],
   "source": [
    "Y = _[0].nsimplify()\n",
    "Y"
   ]
  },
  {
   "cell_type": "code",
   "execution_count": 20,
   "id": "f4a5ab24",
   "metadata": {},
   "outputs": [
    {
     "data": {
      "text/latex": [
       "$\\displaystyle \\frac{\\left(e^{10 t} + 148 e^{5 t} - 74\\right) e^{- 10 t} \\theta\\left(t\\right)}{25}$"
      ],
      "text/plain": [
       "(exp(10*t) + 148*exp(5*t) - 74)*exp(-10*t)*Heaviside(t)/25"
      ]
     },
     "execution_count": 20,
     "metadata": {},
     "output_type": "execute_result"
    }
   ],
   "source": [
    "y = inverse_laplace_transform( Y, s, t )\n",
    "y"
   ]
  },
  {
   "cell_type": "code",
   "execution_count": null,
   "id": "771cc75e",
   "metadata": {},
   "outputs": [],
   "source": []
  },
  {
   "cell_type": "code",
   "execution_count": null,
   "id": "e545a0ad",
   "metadata": {},
   "outputs": [],
   "source": []
  },
  {
   "cell_type": "code",
   "execution_count": null,
   "id": "06fd4355",
   "metadata": {},
   "outputs": [],
   "source": []
  },
  {
   "cell_type": "code",
   "execution_count": 23,
   "id": "f6e3b339",
   "metadata": {},
   "outputs": [
    {
     "data": {
      "text/latex": [
       "$\\displaystyle Y s^{2} + 9 Y - 2 = \\frac{10}{s}$"
      ],
      "text/plain": [
       "Eq(Y*s**2 + 9*Y - 2, 10/s)"
      ]
     },
     "execution_count": 23,
     "metadata": {},
     "output_type": "execute_result"
    }
   ],
   "source": [
    "y0 = 0 ; yp0 = 2\n",
    "\n",
    "Y = Symbol('Y')\n",
    "Ly = Y\n",
    "Lyp = s*Y - y0\n",
    "Lypp = s**2 * Y - s*y0 - yp0\n",
    "eqn = Eq( Lypp + 0*Lyp + 9*Ly, 10/s)\n",
    "eqn"
   ]
  },
  {
   "cell_type": "code",
   "execution_count": 25,
   "id": "e99ff159",
   "metadata": {},
   "outputs": [
    {
     "data": {
      "text/plain": [
       "[2*(s + 5)/(s*(s**2 + 9))]"
      ]
     },
     "execution_count": 25,
     "metadata": {},
     "output_type": "execute_result"
    }
   ],
   "source": [
    "solve( eqn, Y )\n"
   ]
  },
  {
   "cell_type": "code",
   "execution_count": 26,
   "id": "05204568",
   "metadata": {},
   "outputs": [
    {
     "data": {
      "text/latex": [
       "$\\displaystyle \\frac{2 \\left(s + 5\\right)}{s \\left(s^{2} + 9\\right)}$"
      ],
      "text/plain": [
       "2*(s + 5)/(s*(s**2 + 9))"
      ]
     },
     "execution_count": 26,
     "metadata": {},
     "output_type": "execute_result"
    }
   ],
   "source": [
    "Y = _[0].nsimplify()\n",
    "Y"
   ]
  },
  {
   "cell_type": "code",
   "execution_count": 27,
   "id": "a4f0edc4",
   "metadata": {},
   "outputs": [
    {
     "data": {
      "text/latex": [
       "$\\displaystyle \\frac{2 \\cdot \\left(3 \\sin{\\left(3 t \\right)} - 5 \\cos{\\left(3 t \\right)} + 5\\right) \\theta\\left(t\\right)}{9}$"
      ],
      "text/plain": [
       "2*(3*sin(3*t) - 5*cos(3*t) + 5)*Heaviside(t)/9"
      ]
     },
     "execution_count": 27,
     "metadata": {},
     "output_type": "execute_result"
    }
   ],
   "source": [
    "y = inverse_laplace_transform( Y, s, t )\n",
    "y"
   ]
  },
  {
   "cell_type": "code",
   "execution_count": null,
   "id": "d3c9429c",
   "metadata": {},
   "outputs": [],
   "source": []
  }
 ],
 "metadata": {
  "kernelspec": {
   "display_name": "Python 3 (ipykernel)",
   "language": "python",
   "name": "python3"
  },
  "language_info": {
   "codemirror_mode": {
    "name": "ipython",
    "version": 3
   },
   "file_extension": ".py",
   "mimetype": "text/x-python",
   "name": "python",
   "nbconvert_exporter": "python",
   "pygments_lexer": "ipython3",
   "version": "3.10.9"
  }
 },
 "nbformat": 4,
 "nbformat_minor": 5
}
