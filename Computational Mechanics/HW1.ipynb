{
 "cells": [
  {
   "cell_type": "code",
   "execution_count": 1,
   "id": "91f034f6",
   "metadata": {},
   "outputs": [],
   "source": [
    "import numpy as np"
   ]
  },
  {
   "cell_type": "markdown",
   "id": "8652b1e4",
   "metadata": {},
   "source": [
    "# Q1\n",
    "### (a) calculate dot product"
   ]
  },
  {
   "cell_type": "code",
   "execution_count": 2,
   "id": "ca0b49d5",
   "metadata": {},
   "outputs": [
    {
     "name": "stdout",
     "output_type": "stream",
     "text": [
      "adotb : -11 cdotd : 18\n"
     ]
    }
   ],
   "source": [
    "a = np.array([2,-3,7])\n",
    "b = np.array([-4,1,0])\n",
    "c = np.array([5,-1,9])\n",
    "d = np.array([0,0,2])\n",
    "\n",
    "# Use np.dot to calculate\n",
    "adotb = np.dot(a,b)\n",
    "cdotd = np.dot(c,d)\n",
    "print(\"adotb :\", adotb,\"cdotd :\", cdotd)"
   ]
  },
  {
   "cell_type": "markdown",
   "id": "27e65862",
   "metadata": {},
   "source": [
    "### (b) the angles which A cross B makes with the x,y,z axes"
   ]
  },
  {
   "cell_type": "code",
   "execution_count": 3,
   "id": "e8f8385e",
   "metadata": {},
   "outputs": [
    {
     "name": "stdout",
     "output_type": "stream",
     "text": [
      "A cross B : [ -7 -28 -10]\n",
      "\n",
      "x axis\n",
      "rad: 1.802020934400567 , degree 103.24819413537348\n",
      "y axis\n",
      "rad: 2.730485267782634 , degree 156.44528186659335\n",
      "z axis\n",
      "rad: 1.9043313752416218 , degree 109.11015059568881\n"
     ]
    }
   ],
   "source": [
    "acrossb = np.cross(a,b)\n",
    "x,y,z = np.array([1,0,0]), np.array([0,1,0]), np.array([0,0,1])\n",
    "\n",
    "angle1 = np.arccos(np.dot(acrossb, x) / np.linalg.norm(acrossb) * np.linalg.norm(x))\n",
    "angle2 = np.arccos(np.dot(acrossb, y) / np.linalg.norm(acrossb) * np.linalg.norm(y))\n",
    "angle3 = np.arccos(np.dot(acrossb, z) / np.linalg.norm(acrossb) * np.linalg.norm(z))\n",
    "\n",
    "print(\"A cross B :\", acrossb)\n",
    "\n",
    "print(\"\\nx axis\")\n",
    "print(\"rad:\", angle1, \", degree\", angle1*180/np.pi)\n",
    "\n",
    "print(\"y axis\")\n",
    "print(\"rad:\", angle2, \", degree\", angle2*180/np.pi)\n",
    "\n",
    "print(\"z axis\")\n",
    "print(\"rad:\", angle3, \", degree\", angle3*180/np.pi)"
   ]
  },
  {
   "cell_type": "markdown",
   "id": "d12173f9",
   "metadata": {},
   "source": [
    "### (c) Unit vector in the direction of B cross D"
   ]
  },
  {
   "cell_type": "code",
   "execution_count": 4,
   "id": "7d4fa135",
   "metadata": {},
   "outputs": [
    {
     "name": "stdout",
     "output_type": "stream",
     "text": [
      "cross product : [2 8 0] unit vector : [0.24253563 0.9701425  0.        ]\n",
      "1.0\n"
     ]
    }
   ],
   "source": [
    "bcrossd = np.cross(b,d)\n",
    "unit = bcrossd / np.linalg.norm(bcrossd)\n",
    "print(\"cross product :\", bcrossd,\"unit vector :\", unit)\n",
    "\n",
    "# check if it is unit vector\n",
    "print(np.linalg.norm(unit))"
   ]
  },
  {
   "cell_type": "markdown",
   "id": "24718a3e",
   "metadata": {},
   "source": [
    "### (d) the vector with the largest magnitude"
   ]
  },
  {
   "cell_type": "code",
   "execution_count": 5,
   "id": "3c2e733e",
   "metadata": {},
   "outputs": [
    {
     "name": "stdout",
     "output_type": "stream",
     "text": [
      "Largest Vector : c [ 5 -1  9] Magnitude : 10.344080432788601\n"
     ]
    }
   ],
   "source": [
    "# create a list of vector a,b,c,d\n",
    "vector_list = [a,b,c,d]\n",
    "# create a list to get the magnitudes of vectors\n",
    "vector_magnitude_list = []\n",
    "# create a list of names to show later\n",
    "names = ['a', 'b', 'c', 'd']\n",
    "\n",
    "# use 'for' to get values of magnitude into vector_magnitude_list\n",
    "for i in range(len(vector_list)):\n",
    "    vector_magnitude_list.append(np.linalg.norm(vector_list[i]))\n",
    "\n",
    "# use 'max' to get the largest magnitude\n",
    "largest = max(vector_magnitude_list)\n",
    "\n",
    "# print the largest vector name, the vector, magnitude\n",
    "print(\"Largest Vector :\",names[vector_magnitude_list.index(largest)], \\\n",
    "      vector_list[vector_magnitude_list.index(largest)],\"Magnitude :\", largest)\n",
    "\n"
   ]
  },
  {
   "cell_type": "markdown",
   "id": "0cbf37c5",
   "metadata": {},
   "source": [
    "# Q2\n",
    "### (a) print a,b,ab"
   ]
  },
  {
   "cell_type": "code",
   "execution_count": 6,
   "id": "edd04da7",
   "metadata": {},
   "outputs": [
    {
     "name": "stdout",
     "output_type": "stream",
     "text": [
      "a:\n",
      "[[ 0  1  2  3]\n",
      " [ 4  5  6  7]\n",
      " [ 8  9 10 11]]\n",
      "b:\n",
      "[[0 1]\n",
      " [2 3]\n",
      " [4 5]\n",
      " [6 7]]\n",
      "ab:\n",
      "[[ 28  34]\n",
      " [ 76  98]\n",
      " [124 162]]\n"
     ]
    }
   ],
   "source": [
    "# use arange to create matrix then reshape to make it into the shape I want\n",
    "a = np.arange(12); a = a.reshape(3,4); print(\"a:\", a, sep = '\\n')\n",
    "b = np.arange(8); b = b.reshape(4,2); print(\"b:\",b, sep = '\\n')\n",
    "# Use 'matmul' for matrix multiplication\n",
    "print(\"ab:\", np.matmul(a,b), sep = '\\n')"
   ]
  },
  {
   "cell_type": "markdown",
   "id": "7124fe68",
   "metadata": {},
   "source": [
    "### (b) Is it possible to do the multiplication aaT?"
   ]
  },
  {
   "cell_type": "code",
   "execution_count": 7,
   "id": "a0206837",
   "metadata": {},
   "outputs": [
    {
     "name": "stdout",
     "output_type": "stream",
     "text": [
      "It is possible.\n",
      "shape of a : (3, 4) shape of a transposed : (4, 3)\n"
     ]
    }
   ],
   "source": [
    "# Use try/except to see if the multiplication work\n",
    "try:\n",
    "    np.matmul(a, a.T)\n",
    "    print(\"It is possible.\")\n",
    "    print(\"shape of a :\", a.shape, \"shape of a transposed :\", a.T.shape)\n",
    "except:\n",
    "    print(\"It is not possible.\")\n",
    "    print(\"shape of a :\", a.shape, \"shape of a transposed :\", a.T.shape)"
   ]
  },
  {
   "cell_type": "markdown",
   "id": "2ba818ae",
   "metadata": {},
   "source": [
    "- to do a matrix multiplication, the column value of former matrix and the row value of later matrix should be the same. Matrix a has shape of 3,4 and a transposed has a shape of 4,3. "
   ]
  },
  {
   "cell_type": "markdown",
   "id": "9171912c",
   "metadata": {},
   "source": [
    "### (c) show that (ab).T = (b.T) (a.T)"
   ]
  },
  {
   "cell_type": "code",
   "execution_count": 8,
   "id": "49765dd7",
   "metadata": {},
   "outputs": [
    {
     "name": "stdout",
     "output_type": "stream",
     "text": [
      "[[ True  True  True]\n",
      " [ True  True  True]]\n"
     ]
    }
   ],
   "source": [
    "# check if all elements are the same\n",
    "print(np.matmul(a,b).T == np.matmul(b.T, a.T))"
   ]
  },
  {
   "cell_type": "markdown",
   "id": "59c19f21",
   "metadata": {},
   "source": [
    "### (d) create two square matrices c,d of equal size and show that (cd)inverse = (d)inverse (c)inverse"
   ]
  },
  {
   "cell_type": "code",
   "execution_count": 9,
   "id": "58718e72",
   "metadata": {},
   "outputs": [
    {
     "name": "stdout",
     "output_type": "stream",
     "text": [
      "[[ True  True]\n",
      " [ True  True]]\n"
     ]
    }
   ],
   "source": [
    "c = np.arange(4); c = c.reshape(2,2); d = np.arange(4,8); d = d.reshape(2,2)\n",
    "cd = np.matmul(c,d)\n",
    "\n",
    "# set cutoff value useing round(decimals = 10). Inverse matrix is obtained through iterations, so it can't be exact.\n",
    "print(np.linalg.inv(cd).round(10) == np.matmul(np.linalg.inv(d), np.linalg.inv(c)).round(10))"
   ]
  },
  {
   "cell_type": "markdown",
   "id": "64e37be0",
   "metadata": {},
   "source": [
    "### (e) show that (c)inverse.T = (c.T)inverse"
   ]
  },
  {
   "cell_type": "code",
   "execution_count": 10,
   "id": "820b7ddf",
   "metadata": {},
   "outputs": [
    {
     "name": "stdout",
     "output_type": "stream",
     "text": [
      "[[ True  True]\n",
      " [ True  True]]\n"
     ]
    }
   ],
   "source": [
    "print(np.linalg.inv(c).round(10).T == np.linalg.inv(c.T).round(10))"
   ]
  },
  {
   "cell_type": "markdown",
   "id": "7bcd4baa",
   "metadata": {},
   "source": [
    "# Q3"
   ]
  },
  {
   "cell_type": "code",
   "execution_count": 11,
   "id": "ff34eaf6",
   "metadata": {},
   "outputs": [
    {
     "name": "stdout",
     "output_type": "stream",
     "text": [
      "x1 = -0.56501823759602\n",
      "x2 = -11.34361865307503\n",
      "x3 = -12.191518913957196\n",
      "x4 = -4.498644258176723\n",
      "x5 = 0.21847371853712771\n",
      "\n",
      "Substituting for the row0 in matrix A with vector x\n",
      "True\n",
      "Substituting for the row1 in matrix A with vector x\n",
      "True\n",
      "Substituting for the row2 in matrix A with vector x\n",
      "True\n",
      "Substituting for the row3 in matrix A with vector x\n",
      "True\n",
      "Substituting for the row4 in matrix A with vector x\n",
      "True\n"
     ]
    }
   ],
   "source": [
    "# Coefficient Matrix A\n",
    "A = np.array([ [2,0.7,-3.5,7,-0.5], [-1.2, 2.7, 0, -3, -2.5], [1, 1, -1, -1, 1], [2.9, 0, 0, 0, 7.5], [0, 0, 1.8, -2.7, -5.5] ])\n",
    "# Constant Vector b\n",
    "b = np.array([2, -17, 5, 0 ,-11])\n",
    "# Unknown Variable Vector x\n",
    "x = np.linalg.inv(A)@b\n",
    "\n",
    "# Answer to the system of linear equations:\n",
    "for i in range(5):\n",
    "    print('x', i+1, ' = ', x[i], sep = '')\n",
    "\n",
    "# Checking the answer\n",
    "print(\"\")\n",
    "for i in range(A.shape[0]):\n",
    "    print(\"Substituting for the row{} in matrix A with vector x\".format(i))\n",
    "    print(np.dot(A[i,:], x).round(10) == b[i])\n",
    "    "
   ]
  }
 ],
 "metadata": {
  "kernelspec": {
   "display_name": "Python 3 (ipykernel)",
   "language": "python",
   "name": "python3"
  },
  "language_info": {
   "codemirror_mode": {
    "name": "ipython",
    "version": 3
   },
   "file_extension": ".py",
   "mimetype": "text/x-python",
   "name": "python",
   "nbconvert_exporter": "python",
   "pygments_lexer": "ipython3",
   "version": "3.9.7"
  }
 },
 "nbformat": 4,
 "nbformat_minor": 5
}
