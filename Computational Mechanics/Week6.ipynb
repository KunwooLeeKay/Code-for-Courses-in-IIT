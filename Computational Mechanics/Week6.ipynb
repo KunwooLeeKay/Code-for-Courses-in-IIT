{
 "cells": [
  {
   "cell_type": "markdown",
   "id": "76543a65",
   "metadata": {},
   "source": [
    "# Interpolation\n",
    "- Predicting the value between two discrete values we know\n",
    "- Easiest way is to connect the two values in straight line and figure out the point in between.\n",
    "- This is a type of curve-fitting in the simplest way.\n",
    "# Extrapolation\n",
    "- Given many points of data, predicting a data outside the range of data you have.\n",
    "- The most robust way to do it is to determine the function from the points given, then predict.\n",
    "# How do you fit a function?\n",
    "- Given n sets of (xi, yi), find the function which best fits the data.\n",
    "### Fitting a line\n",
    "- From theory, it is known that line is the best for the data. Our model of phenomenon is y = ax + b\n",
    "- What are the a,b that best fit?\n",
    "- at x0, y0p = ax0 + b -> error0 = y0 - y0p\n",
    "- at x1, y1p = ax1 + b -> error1 = y1 - y1p\n",
    "- ...\n",
    "- at x(n-1), y(n-1)p = ax(n-1) + b -> error(n-1) = y(n-1) - y(n-1)p\n",
    "- So, this becomes \"Find a,b which minimize the error\"\n",
    "- Metrics for error : \n",
    "1. minimize the summation of squared error : least square, L2 norm\n",
    "1. minimize the summation of absolute value : L-infinity norm\n",
    "- Let's say we chose minimization of squared error\n",
    "- E(a,b) = sigma(yi - yip)^2 = sigma(yi - (axi + b))^2\n",
    "- What is technique to find a,b? we don't wan't to use gradient descent because there are simpler ways for squared error\n",
    "- find dE/da = dE/db = 0 (It will give you minima because maxima will be simply infinite)\n",
    "- -2 x sigma(yi - (axi + b))xi = 0 -> sigma(xiyi) - a x sigma(xi^2) - b x sigma(xi) = 0\n",
    "- -2 x sigma(yi - (axi + b)) = 0 -> sigma(yi) - a x sigma(xi) - sigma(b) = 0\n",
    "- Since we used squeared error, derivative becomes linear equations, which makes things much more easier.\n",
    "- So, it is system of linear equations!\n",
    "### Fitting a complicated model\n",
    "- model : y = f(x,a,b,c, ...) : ex. y = a + bx + cx^2 + ... (say, 10 constants)\n",
    "- It is totally same. System of 10 linear equations.\n",
    "- is there is no power of constants, it will be system of linear equations.\n",
    "\n",
    "#### Note : if the model is not polynomial, it won't be system of linear equations"
   ]
  },
  {
   "cell_type": "code",
   "execution_count": null,
   "id": "dad083a2",
   "metadata": {},
   "outputs": [],
   "source": []
  }
 ],
 "metadata": {
  "kernelspec": {
   "display_name": "tf",
   "language": "python",
   "name": "tf"
  },
  "language_info": {
   "codemirror_mode": {
    "name": "ipython",
    "version": 3
   },
   "file_extension": ".py",
   "mimetype": "text/x-python",
   "name": "python",
   "nbconvert_exporter": "python",
   "pygments_lexer": "ipython3",
   "version": "3.8.0"
  }
 },
 "nbformat": 4,
 "nbformat_minor": 5
}
