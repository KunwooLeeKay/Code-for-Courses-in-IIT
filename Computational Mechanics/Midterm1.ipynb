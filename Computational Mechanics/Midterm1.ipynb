{
 "cells": [
  {
   "cell_type": "code",
   "execution_count": 1,
   "id": "02b6c223",
   "metadata": {},
   "outputs": [
    {
     "name": "stderr",
     "output_type": "stream",
     "text": [
      "/Users/kunwoosmac/opt/anaconda3/envs/tensorflow/lib/python3.8/site-packages/scipy/__init__.py:146: UserWarning: A NumPy version >=1.16.5 and <1.23.0 is required for this version of SciPy (detected version 1.23.1\n",
      "  warnings.warn(f\"A NumPy version >={np_minversion} and <{np_maxversion}\"\n"
     ]
    }
   ],
   "source": [
    "%matplotlib inline\n",
    "import numpy as np\n",
    "import matplotlib.pyplot as plt\n",
    "from scipy.optimize import fsolve"
   ]
  },
  {
   "cell_type": "markdown",
   "id": "cb08b1e1",
   "metadata": {},
   "source": [
    "# Q1"
   ]
  },
  {
   "cell_type": "code",
   "execution_count": 2,
   "id": "48fbf239",
   "metadata": {},
   "outputs": [
    {
     "name": "stdout",
     "output_type": "stream",
     "text": [
      "a and c - angle in degree : 144.73561031724535\n",
      "b cross c - magnitude : 6.48074069840786\n",
      "unit c : [-0.57735027 -0.57735027 -0.57735027] , magnitude of the vector : 1.0\n",
      "two vectors : [ 1 -1 -5] [-5  5 -2]\n"
     ]
    }
   ],
   "source": [
    "a = np.array([1,1,0])\n",
    "b = np.array([2,-3,1])\n",
    "c = np.array([-1,-1,-1])\n",
    "\n",
    "angle1 = np.arccos(np.dot(a,c) / (np.linalg.norm(a) * np.linalg.norm(c)))\n",
    "\n",
    "# find angle between a and c\n",
    "print(\"a and c - angle in degree :\", angle1*180/np.pi)\n",
    "\n",
    "# find magnitude of b cross c\n",
    "bcrossc = np.cross(b,c)\n",
    "print(\"b cross c - magnitude :\", np.linalg.norm(bcrossc))\n",
    "\n",
    "# find unit vector of c\n",
    "mag_c = np.linalg.norm(c)\n",
    "unit_c = c/mag_c\n",
    "print(\"unit c :\", unit_c, \", magnitude of the vector :\", np.linalg.norm(unit_c))\n",
    "\n",
    "# find two vectors perpendicular to a as well as each other\n",
    "perpen1 = np.cross(a,b)\n",
    "perpen2 = np.cross(a, perpen1)\n",
    "print(\"two vectors :\", perpen1, perpen2)"
   ]
  },
  {
   "cell_type": "markdown",
   "id": "efaff843",
   "metadata": {},
   "source": [
    "# Q2"
   ]
  },
  {
   "cell_type": "code",
   "execution_count": 3,
   "id": "cb56fd9a",
   "metadata": {},
   "outputs": [
    {
     "name": "stdout",
     "output_type": "stream",
     "text": [
      "Answer : [ 24.44  -4.92 -19.28  15.64 -23.88]\n",
      "\n",
      "Checking the Answer\n",
      "\n",
      "Substituting for the row0 in matrix A with vector x\n",
      "True\n",
      "Substituting for the row1 in matrix A with vector x\n",
      "True\n",
      "Substituting for the row2 in matrix A with vector x\n",
      "True\n",
      "Substituting for the row3 in matrix A with vector x\n",
      "True\n",
      "Substituting for the row4 in matrix A with vector x\n",
      "True\n"
     ]
    }
   ],
   "source": [
    "# Solve system of linear equations\n",
    "\n",
    "A = np.array([ [1,2,-1,0,1], [2,-1,1,-1,1], [5,3,6,-1,-1], [0,1,-8,7,10], [1,1,1,1,1] ])\n",
    "b = np.array([10, -5, 0, 20, -8])\n",
    "x = np.linalg.inv(A)@b\n",
    "print(\"Answer :\", x)\n",
    "\n",
    "# Checking the answer\n",
    "print(\"\\nChecking the Answer\\n\")\n",
    "for i in range(A.shape[0]):\n",
    "    print(\"Substituting for the row{} in matrix A with vector x\".format(i))\n",
    "    print(np.dot(A[i,:], x).round(10) == b[i])"
   ]
  },
  {
   "cell_type": "markdown",
   "id": "dd5af646",
   "metadata": {},
   "source": [
    "# Q3"
   ]
  },
  {
   "cell_type": "code",
   "execution_count": 4,
   "id": "8c77b299",
   "metadata": {
    "scrolled": true
   },
   "outputs": [
    {
     "data": {
      "text/plain": [
       "[<matplotlib.lines.Line2D at 0x7f85494dff70>]"
      ]
     },
     "execution_count": 4,
     "metadata": {},
     "output_type": "execute_result"
    },
    {
     "data": {
      "image/png": "[encoded data removed]",
      "text/plain": [
       "<Figure size 432x288 with 1 Axes>"
      ]
     },
     "metadata": {
      "needs_background": "light"
     },
     "output_type": "display_data"
    }
   ],
   "source": [
    "x = np.linspace(0,np.pi, 10000)\n",
    "y = (np.sin(x))**2\n",
    "\n",
    "# set x0 to pi/4\n",
    "x0 = np.pi/4\n",
    "\n",
    "original = (np.sin(x0))**2\n",
    "first = 2*(np.sin(x0))*(np.cos(x0))\n",
    "\n",
    "# approximation using first two terms\n",
    "y2 = original + (x-x0)*first\n",
    "\n",
    "# plot the original function and 2terms approximation\n",
    "plt.plot(x, y)\n",
    "plt.plot(x, y2)"
   ]
  },
  {
   "cell_type": "markdown",
   "id": "24d67fc6",
   "metadata": {},
   "source": [
    "# Q4"
   ]
  },
  {
   "cell_type": "code",
   "execution_count": 7,
   "id": "a3eb205b",
   "metadata": {},
   "outputs": [
    {
     "name": "stdout",
     "output_type": "stream",
     "text": [
      "The function have 2 local minimas\n",
      "========================================\n",
      "First minima from fsolve: [-2.59485593]\n",
      "Second minima from fsolve: [6.38835486]\n"
     ]
    },
    {
     "data": {
      "image/png": "[encoded data removed]",
      "text/plain": [
       "<Figure size 432x288 with 1 Axes>"
      ]
     },
     "metadata": {
      "needs_background": "light"
     },
     "output_type": "display_data"
    }
   ],
   "source": [
    "x = np.linspace(-10, 10, 1000)\n",
    "y = (x**4)/4 - 5*(x**3)/3 - 12*(x**2)/2 + 20*x\n",
    "\n",
    "plt.plot(x,y)\n",
    "print(\"The function have 2 local minimas\")\n",
    "\n",
    "print(\"=\" * 40)\n",
    "\n",
    "# define function that returns the first derivative of y\n",
    "def oneEquation(x):\n",
    "    return x**3 - 5*(x**2) - 12*x + 20\n",
    "\n",
    "# Check second derivative to check minima or maxima\n",
    "second_der = 3*x**2 - 10*x - 12\n",
    "\n",
    "# start the guess from -10\n",
    "guess = -10\n",
    "solution1 = fsolve(oneEquation, guess).round(10) \n",
    "    # give round as the computer calculates with iteration.\n",
    "\n",
    "print(\"First minima from fsolve: {}\". format(solution1))\n",
    "\n",
    "# increase guess by 1, and when they find the new minima, break\n",
    "while True:\n",
    "    guess += 1\n",
    "    solution2 = fsolve(oneEquation, guess).round(10)\n",
    "    # if it is different from solution1\n",
    "    if solution2 != solution1:\n",
    "        # and the second derivative is positive\n",
    "        if 3*(solution2)**2 - 10*(solution2) - 12 > 0:\n",
    "            print(\"Second minima from fsolve: {}\".format(solution2))\n",
    "            break"
   ]
  },
  {
   "cell_type": "code",
   "execution_count": null,
   "id": "507e408b",
   "metadata": {},
   "outputs": [],
   "source": []
  }
 ],
 "metadata": {
  "kernelspec": {
   "display_name": "tf",
   "language": "python",
   "name": "tf"
  },
  "language_info": {
   "codemirror_mode": {
    "name": "ipython",
    "version": 3
   },
   "file_extension": ".py",
   "mimetype": "text/x-python",
   "name": "python",
   "nbconvert_exporter": "python",
   "pygments_lexer": "ipython3",
   "version": "3.8.0"
  }
 },
 "nbformat": 4,
 "nbformat_minor": 5
}
