{
 "cells": [
  {
   "cell_type": "markdown",
   "id": "d9c774fa",
   "metadata": {},
   "source": [
    "# Minimization Prblems\n",
    "- y = f(x)\n",
    "- Find that x which minimizes f(x)\n",
    "- In minimization problem, there is Global Minima, which is actual minimum value and Local Minimas\n",
    "- By saying \"Find that x which minimizes f(x), there are multiple anwer.\n",
    "- For general non-linear functions, finding global minima is impossible.\n",
    "### For one variable\n",
    "- Finding minima may be achieved by solving the equation dy/dx = 0, but in computer, they usually use gradient descent.\n",
    "- Gradient descent : x1 = x0 - alpha * fprime(x0), (alpha : learning rate)\n",
    "### For two variables\n",
    "- z = f(x,y), find those (x,y) at which f(x,y) is minimized.\n",
    "- Gradient of x,y points towards the steepest direction vector, which leads to the minima.\n",
    "- Initial Guess (x0,y0). (x1,y1) = (x0,y0) - alpha * gradient(x0,y0)\n",
    "### For multiple variables\n",
    "- z = f(x1,x2,x3,...,xn), Min z = ?\n",
    "- vector(x) = (x1,x2,x3,...,xn) : n dimensional vector\n",
    "- initial guess : vector(x0)\n",
    "- vector(x1) = vecotr(x0) - alpha * gradient(vector(x0))\n",
    "### Method w/o using gradient descent for multiple variables (roots problem)\n",
    "- for z = f(x,y), solving system of non-linear equation df/dx = 0, df/dy = 0 can be used to get minima\n",
    "\n",
    "### For multiple variables to minimize multiple functions\n",
    "- y1 = f1(x1, ... , xn) , y2 = f2(x1, ... , xn)\n",
    "- Find sets of ((x1, ... , xn) such that y1 and y2 are minimized (y1, y2 >= 0)\n",
    "- For one functions, we have method(gradient descent). But for multiple functions, we have to find a way to put them in one function.\n",
    "- Minimize y1^2 + y2^2 (squared error)\n"
   ]
  },
  {
   "cell_type": "markdown",
   "id": "1d53bfbf",
   "metadata": {},
   "source": [
    "### Minimization in Python\n",
    "1. use gradient descent using scipy.optimize.minimize\n",
    "1. find solution to fprime(x) using newton-raphson or fsolve\n",
    "- Note : gradient descent doesn't give you zero. They give the minimum.\n",
    "- Note : solving root gives you zero, not minimum.\n",
    "- Can gradient descent be used to get zero? Yes : minimize f^2 and the answer will be when f(x) = 0\n",
    "\n",
    "### When using roots problem to solve minimization of multiple variables\n",
    "- We minimize z = f(x,y) by solving system of non-linear equation df/dx = 0, df/dy = 0\n",
    "- We use fsolve, which is equivalent to solving g(x,y) = 0, h(x,y) = 0\n",
    "- In findnig roots of system of non-linear equation, Jacobian Matix is important as it contains all the info for first derivatives    \n",
    "\n",
    "#### For Example\n",
    "- f(x,y) = 0 , g(x,y) = 0 , Initial Guess : (x0, y0)  \n",
    "- Next iteration is (x1,y1). \n",
    "- Assume that (x1,y1) is very close to (x0,y0). \n",
    "- Close enough, taylor series with only first term(first derivative) will give good estimation as (x1-x0)^2 will be negligibly small.\n",
    "- Write taylor series at point (x0, y0) and substitute x1 for x. \n",
    "- f(x1,y1) = f(x0,y0) + (x1-x0)(df/dx)|x0,y0 + (y1-y0)(df/dy)|x0,y0\n",
    "- g(x1,y1) = g(x0,y0) + (x1-x0)(dg/dx)|x0,y0 + (y1-y0)(dg/dy)|x0,y0\n",
    "- Lets say luckily, x1 and y1 was the solution. (f(x1,y1) = g(x1,y1) = 0) Then the equation becomes\n",
    "- (x1-x0)(df/dx)|x0,y0 + (y1-y0)(df/dy)|x0,y0 = -f(x0,y0)\n",
    "- (x1-x0)(dg/dx)|x0,y0 + (y1-y0)(dg/dy)|x0,y0 = -g(x0,y0)\n",
    "- So, this system of non-linear equations become system of linear equation, written\n",
    "- [Jacobian|x0,y0] x [(x1-x0), (y1-y0)] = [-f(x0,y0), -g(x0,y0)]"
   ]
  }
 ],
 "metadata": {
  "kernelspec": {
   "display_name": "tf",
   "language": "python",
   "name": "tf"
  },
  "language_info": {
   "codemirror_mode": {
    "name": "ipython",
    "version": 3
   },
   "file_extension": ".py",
   "mimetype": "text/x-python",
   "name": "python",
   "nbconvert_exporter": "python",
   "pygments_lexer": "ipython3",
   "version": "3.8.0"
  }
 },
 "nbformat": 4,
 "nbformat_minor": 5
}
